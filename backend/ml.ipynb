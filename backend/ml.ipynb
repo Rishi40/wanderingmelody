{
 "cells": [
  {
   "cell_type": "code",
   "execution_count": null,
   "metadata": {},
   "outputs": [
    {
     "name": "stderr",
     "output_type": "stream",
     "text": [
      "'(ReadTimeoutError(\"HTTPSConnectionPool(host='huggingface.co', port=443): Read timed out. (read timeout=10)\"), '(Request ID: e80d34da-7987-41a5-ae73-c7e4ba3dc5f1)')' thrown while requesting GET https://huggingface.co/datasets/maharshipandya/spotify-tracks-dataset/resolve/main/dataset.csv\n",
      "Retrying in 1s [Retry 1/5].\n",
      "'(ReadTimeoutError(\"HTTPSConnectionPool(host='cdn-lfs.hf.co', port=443): Read timed out. (read timeout=10)\"), '(Request ID: 255fc3b7-50ee-4fbd-9c69-7e243631ae09)')' thrown while requesting GET https://huggingface.co/datasets/maharshipandya/spotify-tracks-dataset/resolve/main/dataset.csv\n",
      "Retrying in 2s [Retry 2/5].\n"
     ]
    }
   ],
   "source": [
    "#Stella's Notes: This is the .py file Stella is currently using to write the NLP code for the project.\n",
    "#Need to do:\n",
    "#Incorporate age \n",
    "#How ro save cleaned/stemmed/tokenized lyrics as df? How to save the dicts/inverted indexes etc as well?\n",
    "#How to prioritize certain words above others. Should I even do this? E.g if someone enter \"happy Monday\", should I prioritize happy or Monday?\n",
    "#How to semantically relate words? E.g cold with frozen, etc\n",
    "#Handle misspelled words\n",
    "\n",
    "import json\n",
    "import os\n",
    "from flask import Flask, render_template, request\n",
    "from flask_cors import CORS\n",
    "from helpers.MySQLDatabaseHandler import MySQLDatabaseHandler\n",
    "import pandas as pd\n",
    "\n",
    "\n",
    "spotify_df = pd.read_csv(\"hf://datasets/maharshipandya/spotify-tracks-dataset/dataset.csv\")\n",
    "lyric_df = pd.read_csv(\"/Users/juanruzhang/4300/4300-JSON-wanderingmelody/backend/spotify_millsongdata.csv\")\n"
   ]
  },
  {
   "cell_type": "code",
   "execution_count": 108,
   "metadata": {},
   "outputs": [
    {
     "data": {
      "text/html": [
       "<div>\n",
       "<style scoped>\n",
       "    .dataframe tbody tr th:only-of-type {\n",
       "        vertical-align: middle;\n",
       "    }\n",
       "\n",
       "    .dataframe tbody tr th {\n",
       "        vertical-align: top;\n",
       "    }\n",
       "\n",
       "    .dataframe thead th {\n",
       "        text-align: right;\n",
       "    }\n",
       "</style>\n",
       "<table border=\"1\" class=\"dataframe\">\n",
       "  <thead>\n",
       "    <tr style=\"text-align: right;\">\n",
       "      <th></th>\n",
       "      <th>Unnamed: 0</th>\n",
       "      <th>track_id</th>\n",
       "      <th>artists</th>\n",
       "      <th>album_name</th>\n",
       "      <th>track_name</th>\n",
       "      <th>popularity</th>\n",
       "      <th>duration_ms</th>\n",
       "      <th>explicit</th>\n",
       "      <th>danceability</th>\n",
       "      <th>energy</th>\n",
       "      <th>...</th>\n",
       "      <th>loudness</th>\n",
       "      <th>mode</th>\n",
       "      <th>speechiness</th>\n",
       "      <th>acousticness</th>\n",
       "      <th>instrumentalness</th>\n",
       "      <th>liveness</th>\n",
       "      <th>valence</th>\n",
       "      <th>tempo</th>\n",
       "      <th>time_signature</th>\n",
       "      <th>track_genre</th>\n",
       "    </tr>\n",
       "  </thead>\n",
       "  <tbody>\n",
       "    <tr>\n",
       "      <th>0</th>\n",
       "      <td>0</td>\n",
       "      <td>5SuOikwiRyPMVoIQDJUgSV</td>\n",
       "      <td>Gen Hoshino</td>\n",
       "      <td>Comedy</td>\n",
       "      <td>Comedy</td>\n",
       "      <td>73</td>\n",
       "      <td>230666</td>\n",
       "      <td>False</td>\n",
       "      <td>0.676</td>\n",
       "      <td>0.4610</td>\n",
       "      <td>...</td>\n",
       "      <td>-6.746</td>\n",
       "      <td>0</td>\n",
       "      <td>0.1430</td>\n",
       "      <td>0.0322</td>\n",
       "      <td>0.000001</td>\n",
       "      <td>0.3580</td>\n",
       "      <td>0.715</td>\n",
       "      <td>87.917</td>\n",
       "      <td>4</td>\n",
       "      <td>acoustic</td>\n",
       "    </tr>\n",
       "    <tr>\n",
       "      <th>1</th>\n",
       "      <td>1</td>\n",
       "      <td>4qPNDBW1i3p13qLCt0Ki3A</td>\n",
       "      <td>Ben Woodward</td>\n",
       "      <td>Ghost (Acoustic)</td>\n",
       "      <td>Ghost - Acoustic</td>\n",
       "      <td>55</td>\n",
       "      <td>149610</td>\n",
       "      <td>False</td>\n",
       "      <td>0.420</td>\n",
       "      <td>0.1660</td>\n",
       "      <td>...</td>\n",
       "      <td>-17.235</td>\n",
       "      <td>1</td>\n",
       "      <td>0.0763</td>\n",
       "      <td>0.9240</td>\n",
       "      <td>0.000006</td>\n",
       "      <td>0.1010</td>\n",
       "      <td>0.267</td>\n",
       "      <td>77.489</td>\n",
       "      <td>4</td>\n",
       "      <td>acoustic</td>\n",
       "    </tr>\n",
       "    <tr>\n",
       "      <th>2</th>\n",
       "      <td>2</td>\n",
       "      <td>1iJBSr7s7jYXzM8EGcbK5b</td>\n",
       "      <td>Ingrid Michaelson;ZAYN</td>\n",
       "      <td>To Begin Again</td>\n",
       "      <td>To Begin Again</td>\n",
       "      <td>57</td>\n",
       "      <td>210826</td>\n",
       "      <td>False</td>\n",
       "      <td>0.438</td>\n",
       "      <td>0.3590</td>\n",
       "      <td>...</td>\n",
       "      <td>-9.734</td>\n",
       "      <td>1</td>\n",
       "      <td>0.0557</td>\n",
       "      <td>0.2100</td>\n",
       "      <td>0.000000</td>\n",
       "      <td>0.1170</td>\n",
       "      <td>0.120</td>\n",
       "      <td>76.332</td>\n",
       "      <td>4</td>\n",
       "      <td>acoustic</td>\n",
       "    </tr>\n",
       "    <tr>\n",
       "      <th>3</th>\n",
       "      <td>3</td>\n",
       "      <td>6lfxq3CG4xtTiEg7opyCyx</td>\n",
       "      <td>Kina Grannis</td>\n",
       "      <td>Crazy Rich Asians (Original Motion Picture Sou...</td>\n",
       "      <td>Can't Help Falling In Love</td>\n",
       "      <td>71</td>\n",
       "      <td>201933</td>\n",
       "      <td>False</td>\n",
       "      <td>0.266</td>\n",
       "      <td>0.0596</td>\n",
       "      <td>...</td>\n",
       "      <td>-18.515</td>\n",
       "      <td>1</td>\n",
       "      <td>0.0363</td>\n",
       "      <td>0.9050</td>\n",
       "      <td>0.000071</td>\n",
       "      <td>0.1320</td>\n",
       "      <td>0.143</td>\n",
       "      <td>181.740</td>\n",
       "      <td>3</td>\n",
       "      <td>acoustic</td>\n",
       "    </tr>\n",
       "    <tr>\n",
       "      <th>4</th>\n",
       "      <td>4</td>\n",
       "      <td>5vjLSffimiIP26QG5WcN2K</td>\n",
       "      <td>Chord Overstreet</td>\n",
       "      <td>Hold On</td>\n",
       "      <td>Hold On</td>\n",
       "      <td>82</td>\n",
       "      <td>198853</td>\n",
       "      <td>False</td>\n",
       "      <td>0.618</td>\n",
       "      <td>0.4430</td>\n",
       "      <td>...</td>\n",
       "      <td>-9.681</td>\n",
       "      <td>1</td>\n",
       "      <td>0.0526</td>\n",
       "      <td>0.4690</td>\n",
       "      <td>0.000000</td>\n",
       "      <td>0.0829</td>\n",
       "      <td>0.167</td>\n",
       "      <td>119.949</td>\n",
       "      <td>4</td>\n",
       "      <td>acoustic</td>\n",
       "    </tr>\n",
       "  </tbody>\n",
       "</table>\n",
       "<p>5 rows × 21 columns</p>\n",
       "</div>"
      ],
      "text/plain": [
       "   Unnamed: 0                track_id                 artists  \\\n",
       "0           0  5SuOikwiRyPMVoIQDJUgSV             Gen Hoshino   \n",
       "1           1  4qPNDBW1i3p13qLCt0Ki3A            Ben Woodward   \n",
       "2           2  1iJBSr7s7jYXzM8EGcbK5b  Ingrid Michaelson;ZAYN   \n",
       "3           3  6lfxq3CG4xtTiEg7opyCyx            Kina Grannis   \n",
       "4           4  5vjLSffimiIP26QG5WcN2K        Chord Overstreet   \n",
       "\n",
       "                                          album_name  \\\n",
       "0                                             Comedy   \n",
       "1                                   Ghost (Acoustic)   \n",
       "2                                     To Begin Again   \n",
       "3  Crazy Rich Asians (Original Motion Picture Sou...   \n",
       "4                                            Hold On   \n",
       "\n",
       "                   track_name  popularity  duration_ms  explicit  \\\n",
       "0                      Comedy          73       230666     False   \n",
       "1            Ghost - Acoustic          55       149610     False   \n",
       "2              To Begin Again          57       210826     False   \n",
       "3  Can't Help Falling In Love          71       201933     False   \n",
       "4                     Hold On          82       198853     False   \n",
       "\n",
       "   danceability  energy  ...  loudness  mode  speechiness  acousticness  \\\n",
       "0         0.676  0.4610  ...    -6.746     0       0.1430        0.0322   \n",
       "1         0.420  0.1660  ...   -17.235     1       0.0763        0.9240   \n",
       "2         0.438  0.3590  ...    -9.734     1       0.0557        0.2100   \n",
       "3         0.266  0.0596  ...   -18.515     1       0.0363        0.9050   \n",
       "4         0.618  0.4430  ...    -9.681     1       0.0526        0.4690   \n",
       "\n",
       "   instrumentalness  liveness  valence    tempo  time_signature  track_genre  \n",
       "0          0.000001    0.3580    0.715   87.917               4     acoustic  \n",
       "1          0.000006    0.1010    0.267   77.489               4     acoustic  \n",
       "2          0.000000    0.1170    0.120   76.332               4     acoustic  \n",
       "3          0.000071    0.1320    0.143  181.740               3     acoustic  \n",
       "4          0.000000    0.0829    0.167  119.949               4     acoustic  \n",
       "\n",
       "[5 rows x 21 columns]"
      ]
     },
     "execution_count": 108,
     "metadata": {},
     "output_type": "execute_result"
    }
   ],
   "source": [
    "spotify_df.head()"
   ]
  },
  {
   "cell_type": "code",
   "execution_count": 4,
   "metadata": {},
   "outputs": [
    {
     "data": {
      "text/html": [
       "<div>\n",
       "<style scoped>\n",
       "    .dataframe tbody tr th:only-of-type {\n",
       "        vertical-align: middle;\n",
       "    }\n",
       "\n",
       "    .dataframe tbody tr th {\n",
       "        vertical-align: top;\n",
       "    }\n",
       "\n",
       "    .dataframe thead th {\n",
       "        text-align: right;\n",
       "    }\n",
       "</style>\n",
       "<table border=\"1\" class=\"dataframe\">\n",
       "  <thead>\n",
       "    <tr style=\"text-align: right;\">\n",
       "      <th></th>\n",
       "      <th>artist</th>\n",
       "      <th>song</th>\n",
       "      <th>link</th>\n",
       "      <th>text</th>\n",
       "    </tr>\n",
       "  </thead>\n",
       "  <tbody>\n",
       "    <tr>\n",
       "      <th>0</th>\n",
       "      <td>ABBA</td>\n",
       "      <td>Ahe's My Kind Of Girl</td>\n",
       "      <td>/a/abba/ahes+my+kind+of+girl_20598417.html</td>\n",
       "      <td>Look at her face, it's a wonderful face  \\r\\nA...</td>\n",
       "    </tr>\n",
       "    <tr>\n",
       "      <th>1</th>\n",
       "      <td>ABBA</td>\n",
       "      <td>Andante, Andante</td>\n",
       "      <td>/a/abba/andante+andante_20002708.html</td>\n",
       "      <td>Take it easy with me, please  \\r\\nTouch me gen...</td>\n",
       "    </tr>\n",
       "    <tr>\n",
       "      <th>2</th>\n",
       "      <td>ABBA</td>\n",
       "      <td>As Good As New</td>\n",
       "      <td>/a/abba/as+good+as+new_20003033.html</td>\n",
       "      <td>I'll never know why I had to go  \\r\\nWhy I had...</td>\n",
       "    </tr>\n",
       "    <tr>\n",
       "      <th>3</th>\n",
       "      <td>ABBA</td>\n",
       "      <td>Bang</td>\n",
       "      <td>/a/abba/bang_20598415.html</td>\n",
       "      <td>Making somebody happy is a question of give an...</td>\n",
       "    </tr>\n",
       "    <tr>\n",
       "      <th>4</th>\n",
       "      <td>ABBA</td>\n",
       "      <td>Bang-A-Boomerang</td>\n",
       "      <td>/a/abba/bang+a+boomerang_20002668.html</td>\n",
       "      <td>Making somebody happy is a question of give an...</td>\n",
       "    </tr>\n",
       "  </tbody>\n",
       "</table>\n",
       "</div>"
      ],
      "text/plain": [
       "  artist                   song                                        link  \\\n",
       "0   ABBA  Ahe's My Kind Of Girl  /a/abba/ahes+my+kind+of+girl_20598417.html   \n",
       "1   ABBA       Andante, Andante       /a/abba/andante+andante_20002708.html   \n",
       "2   ABBA         As Good As New        /a/abba/as+good+as+new_20003033.html   \n",
       "3   ABBA                   Bang                  /a/abba/bang_20598415.html   \n",
       "4   ABBA       Bang-A-Boomerang      /a/abba/bang+a+boomerang_20002668.html   \n",
       "\n",
       "                                                text  \n",
       "0  Look at her face, it's a wonderful face  \\r\\nA...  \n",
       "1  Take it easy with me, please  \\r\\nTouch me gen...  \n",
       "2  I'll never know why I had to go  \\r\\nWhy I had...  \n",
       "3  Making somebody happy is a question of give an...  \n",
       "4  Making somebody happy is a question of give an...  "
      ]
     },
     "execution_count": 4,
     "metadata": {},
     "output_type": "execute_result"
    }
   ],
   "source": [
    "lyric_df.head()"
   ]
  },
  {
   "cell_type": "code",
   "execution_count": 5,
   "metadata": {},
   "outputs": [
    {
     "data": {
      "text/plain": [
       "0        Look at her face, it's a wonderful face  \\r\\nA...\n",
       "1        Take it easy with me, please  \\r\\nTouch me gen...\n",
       "2        I'll never know why I had to go  \\r\\nWhy I had...\n",
       "3        Making somebody happy is a question of give an...\n",
       "4        Making somebody happy is a question of give an...\n",
       "                               ...                        \n",
       "57645    Irie days come on play  \\r\\nLet the angels fly...\n",
       "57646    Power to the workers  \\r\\nMore power  \\r\\nPowe...\n",
       "57647    all you need  \\r\\nis something i'll believe  \\...\n",
       "57648    northern star  \\r\\nam i frightened  \\r\\nwhere ...\n",
       "57649    come in  \\r\\nmake yourself at home  \\r\\ni'm a ...\n",
       "Name: text, Length: 57650, dtype: object"
      ]
     },
     "execution_count": 5,
     "metadata": {},
     "output_type": "execute_result"
    }
   ],
   "source": [
    "lyric_df['text']"
   ]
  },
  {
   "cell_type": "code",
   "execution_count": 6,
   "metadata": {},
   "outputs": [],
   "source": [
    "from typing import List, Tuple, Dict\n",
    "from collections.abc import Callable\n",
    "import numpy as np\n",
    "import re"
   ]
  },
  {
   "cell_type": "code",
   "execution_count": 7,
   "metadata": {},
   "outputs": [],
   "source": [
    "def tokenize(text: str) -> List[str]:\n",
    "    \"\"\"Returns a list of words that make up the text.\n",
    "    \n",
    "    Note: for simplicity, lowercase everything. Do not remove duplicate words.\n",
    "    Requirement: Use Regex to satisfy this function\n",
    "    \n",
    "    Parameters\n",
    "    ----------\n",
    "    text : str\n",
    "        The input string to be tokenized.\n",
    "\n",
    "    Returns\n",
    "    -------\n",
    "    List[str]\n",
    "        A list of strings representing the words in the text.\n",
    "    \"\"\"\n",
    "    outcome = re.findall(r\"[a-zA-Z]+\", text.lower())\n",
    "    return outcome"
   ]
  },
  {
   "cell_type": "code",
   "execution_count": 8,
   "metadata": {},
   "outputs": [],
   "source": [
    "list_of_lyrics = lyric_df['text'].tolist()"
   ]
  },
  {
   "cell_type": "code",
   "execution_count": 9,
   "metadata": {},
   "outputs": [],
   "source": [
    "dict_of_lyrics = {i: row for i, row in enumerate(lyric_df.to_dict(orient='records'))}\n",
    "#A dictionary of dictionaries. \n",
    "#Key: Row number. Value: Dict of {artist:..., link:...., song:..., text:...}"
   ]
  },
  {
   "cell_type": "code",
   "execution_count": 10,
   "metadata": {},
   "outputs": [],
   "source": [
    "def tokenize_lyrics(dict_of_lyrics, tokenize_method: Callable[[str], List[str]]):\n",
    "    tokenized_lyrics = {}\n",
    "    nrows = len(lyric_df)\n",
    "    for i in range(nrows):\n",
    "        lyrics = dict_of_lyrics[i]['text']\n",
    "        tokenized_lyrics[i] = tokenize_method(lyrics)\n",
    "    return tokenized_lyrics"
   ]
  },
  {
   "cell_type": "code",
   "execution_count": 11,
   "metadata": {},
   "outputs": [],
   "source": [
    "tokenized_lyrics = tokenize_lyrics(dict_of_lyrics, tokenize)\n",
    "#A dict with the row numbers of lyric_df as keys and the lsit of tokenized lyrics as value"
   ]
  },
  {
   "cell_type": "code",
   "execution_count": 12,
   "metadata": {},
   "outputs": [],
   "source": [
    "\n",
    "def build_word_song_count(tokenize_method: Callable[[str], List[str]],\n",
    "    tokenized_lyrics: Dict[int, List[str]]):\n",
    "    \"\"\"Returns a dictionary with the row numbers of songs each distinct word appears in as VALUEs and distinct words as KEYS\n",
    "\n",
    "    Parameters\n",
    "    ----------\n",
    "    tokenize_method : Callable[[str], List[str]]\n",
    "        A method to tokenize a string into a list of strings representing words.\n",
    "    tokenized_lyrics: \n",
    "        A dict with the row numbers of lyric_df as keys and the lsit of tokenized lyrics as value\n",
    "    Returns\n",
    "    -------\n",
    "    Dict[str, int]\n",
    "        A dictionary of words mapped to the number of songs they appear in.\n",
    "    \"\"\"\n",
    "    song_count = {}\n",
    "    \n",
    "    for key in tokenized_lyrics:\n",
    "        unique_tokens = set(token.casefold() for token in tokenized_lyrics[key])\n",
    "\n",
    "        for token in unique_tokens:\n",
    "            if token not in song_count:\n",
    "                song_count[token] = set()\n",
    "            song_count[token].add(key)\n",
    "\n",
    "    return song_count"
   ]
  },
  {
   "cell_type": "code",
   "execution_count": 13,
   "metadata": {},
   "outputs": [],
   "source": [
    "song_count = build_word_song_count(tokenize, tokenized_lyrics)\n",
    "# A dict with KEYS as unique words and VALUES as a list of all the songs(their row numbers) the word appears in"
   ]
  },
  {
   "cell_type": "code",
   "execution_count": 14,
   "metadata": {},
   "outputs": [
    {
     "name": "stderr",
     "output_type": "stream",
     "text": [
      "/Applications/anaconda3/lib/python3.9/site-packages/scipy/__init__.py:146: UserWarning: A NumPy version >=1.16.5 and <1.23.0 is required for this version of SciPy (detected version 1.26.4\n",
      "  warnings.warn(f\"A NumPy version >={np_minversion} and <{np_maxversion}\"\n"
     ]
    },
    {
     "name": "stdout",
     "output_type": "stream",
     "text": [
      "['a', 'about', 'above', 'after', 'again', 'against', 'ain', 'all', 'am', 'an', 'and', 'any', 'are', 'aren', \"aren't\", 'as', 'at', 'be', 'because', 'been', 'before', 'being', 'below', 'between', 'both', 'but', 'by', 'can', 'couldn', \"couldn't\", 'd', 'did', 'didn', \"didn't\", 'do', 'does', 'doesn', \"doesn't\", 'doing', 'don', \"don't\", 'down', 'during', 'each', 'few', 'for', 'from', 'further', 'had', 'hadn', \"hadn't\", 'has', 'hasn', \"hasn't\", 'have', 'haven', \"haven't\", 'having', 'he', \"he'd\", \"he'll\", 'her', 'here', 'hers', 'herself', \"he's\", 'him', 'himself', 'his', 'how', 'i', \"i'd\", 'if', \"i'll\", \"i'm\", 'in', 'into', 'is', 'isn', \"isn't\", 'it', \"it'd\", \"it'll\", \"it's\", 'its', 'itself', \"i've\", 'just', 'll', 'm', 'ma', 'me', 'mightn', \"mightn't\", 'more', 'most', 'mustn', \"mustn't\", 'my', 'myself', 'needn', \"needn't\", 'no', 'nor', 'not', 'now', 'o', 'of', 'off', 'on', 'once', 'only', 'or', 'other', 'our', 'ours', 'ourselves', 'out', 'over', 'own', 're', 's', 'same', 'shan', \"shan't\", 'she', \"she'd\", \"she'll\", \"she's\", 'should', 'shouldn', \"shouldn't\", \"should've\", 'so', 'some', 'such', 't', 'than', 'that', \"that'll\", 'the', 'their', 'theirs', 'them', 'themselves', 'then', 'there', 'these', 'they', \"they'd\", \"they'll\", \"they're\", \"they've\", 'this', 'those', 'through', 'to', 'too', 'under', 'until', 'up', 've', 'very', 'was', 'wasn', \"wasn't\", 'we', \"we'd\", \"we'll\", \"we're\", 'were', 'weren', \"weren't\", \"we've\", 'what', 'when', 'where', 'which', 'while', 'who', 'whom', 'why', 'will', 'with', 'won', \"won't\", 'wouldn', \"wouldn't\", 'y', 'you', \"you'd\", \"you'll\", 'your', \"you're\", 'yours', 'yourself', 'yourselves', \"you've\"]\n"
     ]
    },
    {
     "name": "stderr",
     "output_type": "stream",
     "text": [
      "[nltk_data] Downloading package stopwords to\n",
      "[nltk_data]     /Users/juanruzhang/nltk_data...\n",
      "[nltk_data]   Package stopwords is already up-to-date!\n"
     ]
    }
   ],
   "source": [
    "\n",
    "import nltk\n",
    "from nltk.corpus import stopwords\n",
    "from nltk.corpus import wordnet\n",
    " \n",
    "nltk.download('stopwords')\n",
    "print(stopwords.words('english'))"
   ]
  },
  {
   "cell_type": "code",
   "execution_count": 15,
   "metadata": {},
   "outputs": [],
   "source": [
    "def remove_stop_words(list_of_stop_words,tokenized_lyrics):\n",
    "    \n",
    "    \"\"\"Returns a dictionary with KEYS as row values and VALUES as lyrics without stop words\n",
    "    Parameters\n",
    "    ----------\n",
    "    list_of_stop_words : A list of stop words(E.g and, so, the....)\n",
    "    tokenized_lyrics: \n",
    "        A dict with the row numbers of lyric_df as KEYS and the list of tokenized lyrics as VALUE\n",
    "    Returns\n",
    "    -------\n",
    "    Dict[str, int]\n",
    "        A dictionary of row numbers mapped to the cleaned tokenized lyrics.\n",
    "    \"\"\"\n",
    "    \n",
    "    clean_stop_words = set()\n",
    "    for word in list_of_stop_words:\n",
    "        clean_stop_words.update(nltk.word_tokenize(word.lower()))  \n",
    "    \n",
    "    stop_word_removed_lyrics = {}\n",
    "    \n",
    "    for i, lyrics in tokenized_lyrics.items():\n",
    "        cleaned_lyrics = [word for word in lyrics if word.lower() not in clean_stop_words]\n",
    "        stop_word_removed_lyrics[i] = cleaned_lyrics\n",
    "                \n",
    "    return stop_word_removed_lyrics"
   ]
  },
  {
   "cell_type": "code",
   "execution_count": 16,
   "metadata": {},
   "outputs": [],
   "source": [
    "cleaned_tokenized_lyrics = remove_stop_words(stopwords.words('english'),tokenized_lyrics)\n",
    "#A dictionary of row numbers mapped to the cleaned tokenized lyrics."
   ]
  },
  {
   "cell_type": "code",
   "execution_count": 18,
   "metadata": {},
   "outputs": [],
   "source": [
    "def remove_stop_words_input(tokenize,list_of_stop_words,input_words):\n",
    "    \n",
    "    \"\"\"Returns a dictionary with KEYS as row values and VALUES as lyrics without stop words\n",
    "    Parameters\n",
    "    ----------\n",
    "    list_of_stop_words : A list of stop words(E.g and, so, the....)\n",
    "    input_words: A string(The input)\n",
    "    Returns\n",
    "    -------\n",
    "    A LIST of tokenized words with stop words removed\n",
    "    \"\"\"\n",
    "    list_tokens = tokenize(input_words)\n",
    "    cleaned_words = [word for word in list_tokens if word not in list_of_stop_words]\n",
    "    \n",
    "    return cleaned_words"
   ]
  },
  {
   "cell_type": "code",
   "execution_count": 19,
   "metadata": {},
   "outputs": [],
   "source": [
    "clean_song_count = build_word_song_count(tokenize, cleaned_tokenized_lyrics)\n",
    "# A dict with KEYS as unique NON STOP words and VALUES as a list of all the songs(their row numbers) the word appears in"
   ]
  },
  {
   "cell_type": "code",
   "execution_count": 20,
   "metadata": {},
   "outputs": [],
   "source": [
    "\n",
    "#Long runtime\n",
    "def create_j_sim_mat(input_dict) -> np.ndarray:\n",
    "    \"\"\"Create Jaccard similarity matrix for songs.\n",
    "    Create Jaccard similarity matrix, a np.ndarray of size (`len(lyric_df)`, `len(lyric_df)`),\n",
    "    computing the character similarity, where the entry (i, j) indicating the Jaccard similarity\n",
    "    between the songs `i` and `j`.\n",
    "\n",
    "    Parameters\n",
    "    ----------\n",
    "    input_dict: input dictionary of KEYS as song row numbers and VALUES as their lyrics\n",
    "    Returns\n",
    "    -------\n",
    "    np.ndarray\n",
    "        The Jaccard similarity matrix of (`number of rows`, `number of rows`), with the entry\n",
    "        (i, j) indicating the Jaccard similarity between the songs `i` and `j`.\n",
    "    \"\"\"\n",
    "    return_matrix = np.zeros((len(lyric_df),len(lyric_df)))\n",
    "\n",
    "    for song_index in input_dict:\n",
    "      for other_song_index in input_dict:\n",
    "        song_words = set(input_dict[song_index])\n",
    "        other_song_words = set(input_dict[other_song_index])\n",
    "        union = song_words | other_song_words\n",
    "        intersection = song_words & other_song_words\n",
    "        value = (len(intersection)-1)/(len(union)-1) \n",
    "        return_matrix[song_index][other_song_index] = value\n",
    "    \n",
    "    return return_matrix"
   ]
  },
  {
   "cell_type": "code",
   "execution_count": 64,
   "metadata": {},
   "outputs": [],
   "source": [
    "\n",
    "def build_inverted_index(songs: dict) -> dict:\n",
    "    \"\"\"Builds an inverted index from the song lyrics.\n",
    "\n",
    "    Arguments\n",
    "    =========\n",
    "\n",
    "    songs: dict\n",
    "        A dictionary where keys are song numbers and values are lists of tokens (words from the lyrics).\n",
    "\n",
    "    Returns\n",
    "    =======\n",
    "\n",
    "    inverted_index: dict\n",
    "        An inverted index mapping each term to a sorted list of tuples (song_number, term_frequency):\n",
    "        inverted_index[term] = [(s1, tf1), (s2, tf2), ...]\n",
    "\n",
    "    Example\n",
    "    =======\n",
    "\n",
    "    >> songs = {\n",
    "    ...    1: ['love', 'me', 'do', 'love', 'love'],\n",
    "    ...    2: ['hello', 'goodbye', 'hello']\n",
    "    ... }\n",
    "\n",
    "    >> idx = build_inverted_index(songs)\n",
    "\n",
    "    >> idx['love']\n",
    "    [(1, 3)]\n",
    "\n",
    "    >> idx['hello']\n",
    "    [(2, 2)]\n",
    "    \"\"\"\n",
    "    inverted_index = {}\n",
    "\n",
    "    for song_num, tokens in songs.items():\n",
    "        token_counts = {}\n",
    "        \n",
    "        for token in tokens:\n",
    "            token_counts[token] = token_counts.get(token, 0) + 1\n",
    "        \n",
    "        for token, count in token_counts.items():\n",
    "            if token not in inverted_index:\n",
    "                inverted_index[token] = []\n",
    "            inverted_index[token].append((song_num, count))\n",
    "\n",
    "    return inverted_index\n"
   ]
  },
  {
   "cell_type": "code",
   "execution_count": null,
   "metadata": {},
   "outputs": [],
   "source": [
    "import math\n",
    "def compute_idf(inv_idx, n_docs, min_df=0, max_df_ratio=1):\n",
    "    \"\"\"Compute term IDF values from the inverted index.\n",
    "    Words that are too frequent or too infrequent get pruned.\n",
    "\n",
    "    Hint: Make sure to use log base 2.\n",
    "\n",
    "    inv_idx: an inverted index as above\n",
    "\n",
    "    n_docs: int,\n",
    "        The number of songs.\n",
    "\n",
    "    min_df: int,\n",
    "        Minimum number of documents a term must occur in.\n",
    "        Less frequent words get ignored.\n",
    "        Documents that appear min_df number of times should be included.\n",
    "\n",
    "    max_df_ratio: float,\n",
    "        Maximum ratio of documents a term can occur in.\n",
    "        More frequent words get ignored.\n",
    "\n",
    "    Returns\n",
    "    =======\n",
    "\n",
    "    idf: dict\n",
    "        For each term, the dict contains the idf value.\n",
    "\n",
    "    \"\"\"\n",
    "\n",
    "    # TODO-5.1\n",
    "    return_dict = {}\n",
    "    \n",
    "    for word, word_list in inv_idx.items():\n",
    "        word_count = len(word_list)\n",
    "        \n",
    "        if word_count >= min_df and word_count / n_docs <= max_df_ratio:\n",
    "            idf = math.log2(n_docs/(1+word_count))\n",
    "            return_dict[word] = idf\n",
    "                \n",
    "    return return_dict"
   ]
  },
  {
   "cell_type": "code",
   "execution_count": 68,
   "metadata": {},
   "outputs": [],
   "source": [
    "inverted_index = build_inverted_index(cleaned_tokenized_lyrics)"
   ]
  },
  {
   "cell_type": "code",
   "execution_count": 79,
   "metadata": {},
   "outputs": [],
   "source": [
    "tdidf = compute_idf(inverted_index, len(lyric_df), min_df=0, max_df_ratio=1)"
   ]
  },
  {
   "cell_type": "code",
   "execution_count": 83,
   "metadata": {},
   "outputs": [
    {
     "ename": "KeyError",
     "evalue": "'we'",
     "output_type": "error",
     "traceback": [
      "\u001b[0;31m---------------------------------------------------------------------------\u001b[0m",
      "\u001b[0;31mKeyError\u001b[0m                                  Traceback (most recent call last)",
      "Input \u001b[0;32mIn [83]\u001b[0m, in \u001b[0;36m<cell line: 1>\u001b[0;34m()\u001b[0m\n\u001b[0;32m----> 1\u001b[0m \u001b[38;5;28mprint\u001b[39m(\u001b[43mtdidf\u001b[49m\u001b[43m[\u001b[49m\u001b[38;5;124;43m\"\u001b[39;49m\u001b[38;5;124;43mwe\u001b[39;49m\u001b[38;5;124;43m\"\u001b[39;49m\u001b[43m]\u001b[49m)\n",
      "\u001b[0;31mKeyError\u001b[0m: 'we'"
     ]
    }
   ],
   "source": [
    "print(tdidf[\"we\"])"
   ]
  },
  {
   "cell_type": "code",
   "execution_count": 69,
   "metadata": {},
   "outputs": [],
   "source": [
    "def freq_dis(list_of_words):\n",
    "    \"\"\"How many times each word appears within a given text. \n",
    "    \n",
    "    Parameters\n",
    "    ----------\n",
    "    list_of_words: a list of tokenized words\n",
    "    \"\"\"\n",
    "    fd = nltk.FreqDist(list_of_words)\n",
    "    return fd"
   ]
  },
  {
   "cell_type": "code",
   "execution_count": 70,
   "metadata": {},
   "outputs": [
    {
     "name": "stdout",
     "output_type": "stream",
     "text": [
      "Displaying 2 of 2 matches:\n",
      "nd girl makes feel fine ever believe mine kind girl without blue ever leaves g\n",
      "nd girl makes feel fine ever believe mine kind girl without blue ever leaves\n"
     ]
    }
   ],
   "source": [
    "text = nltk.Text(cleaned_tokenized_lyrics[0])\n",
    "text.concordance(\"mine\", lines=5)"
   ]
  },
  {
   "cell_type": "code",
   "execution_count": 71,
   "metadata": {},
   "outputs": [],
   "source": [
    "#Bigrams: Frequent two-word combinations\n",
    "#Trigrams: Frequent three-word combinations\n",
    "#Quadgrams: Frequent four-word combinations\n",
    "finder = nltk.collocations.TrigramCollocationFinder.from_words(text)\n",
    "result = finder.ngram_fd.most_common(2)\n"
   ]
  },
  {
   "cell_type": "code",
   "execution_count": 72,
   "metadata": {},
   "outputs": [
    {
     "name": "stderr",
     "output_type": "stream",
     "text": [
      "[nltk_data] Downloading package vader_lexicon to\n",
      "[nltk_data]     /Users/juanruzhang/nltk_data...\n",
      "[nltk_data]   Package vader_lexicon is already up-to-date!\n"
     ]
    }
   ],
   "source": [
    "from nltk.sentiment import SentimentIntensityAnalyzer\n",
    "nltk.download('vader_lexicon')\n",
    "sia = SentimentIntensityAnalyzer()"
   ]
  },
  {
   "cell_type": "code",
   "execution_count": 73,
   "metadata": {},
   "outputs": [
    {
     "data": {
      "text/plain": [
       "{'neg': 0.0, 'neu': 0.457, 'pos': 0.543, 'compound': 0.7134}"
      ]
     },
     "execution_count": 73,
     "metadata": {},
     "output_type": "execute_result"
    }
   ],
   "source": [
    "sia.polarity_scores(\"Wow, NLTK is not not not terrible!\")\n",
    "# compound ranges from -1 (most negative) to +1 (most positive)."
   ]
  },
  {
   "cell_type": "code",
   "execution_count": 74,
   "metadata": {},
   "outputs": [],
   "source": [
    "def classify_word_sentiments(list_of_words):\n",
    "    \"\"\"_summary_\n",
    "\n",
    "    Args:\n",
    "        list_of_words (_type_): list of words\n",
    "\n",
    "    Returns:\n",
    "        a dictionary with KEYS as positive, negative, neutral and VALUES of sets of words that belong to each category\n",
    "    \"\"\"\n",
    "    positive = []\n",
    "    negative = []\n",
    "    neutral = []\n",
    "\n",
    "    for word in list_of_words:\n",
    "        score = sia.polarity_scores(word)[\"compound\"]\n",
    "        if score > 0:\n",
    "            positive.append(word)\n",
    "        elif score < 0:\n",
    "            negative.append(word)\n",
    "        else:\n",
    "            neutral.append(word)\n",
    "    \n",
    "    return {\"positive\":positive, \"negative\":negative, \"neutral\":neutral}\n"
   ]
  },
  {
   "cell_type": "code",
   "execution_count": 75,
   "metadata": {},
   "outputs": [],
   "source": [
    "from itertools import chain\n",
    "from nltk.corpus import wordnet\n",
    "from nltk.stem import PorterStemmer\n",
    "from nltk.tokenize import word_tokenize"
   ]
  },
  {
   "cell_type": "code",
   "execution_count": 76,
   "metadata": {},
   "outputs": [],
   "source": [
    "def get_synonyms_of_word(word):\n",
    "    \"\"\"_summary_\n",
    "\n",
    "    Args:\n",
    "        word (_type_): word\n",
    "\n",
    "    Returns:\n",
    "        _type_: a set of all the synonyms of the word\n",
    "    \"\"\"\n",
    "    synonyms = []\n",
    "\n",
    "    for syn in wordnet.synsets(word):\n",
    "        for i in syn.lemmas():\n",
    "            synonyms.append(i.name().replace(\"_\", \" \").lower())\n",
    "\n",
    "    return set(synonyms)"
   ]
  },
  {
   "cell_type": "code",
   "execution_count": 77,
   "metadata": {},
   "outputs": [
    {
     "name": "stdout",
     "output_type": "stream",
     "text": [
      "1749\n",
      "2285\n",
      "2732\n",
      "3226\n",
      "3337\n",
      "3378\n",
      "9015\n",
      "9557\n",
      "9581\n",
      "10116\n",
      "10518\n",
      "11146\n",
      "11169\n",
      "11898\n",
      "12131\n",
      "13034\n",
      "13342\n",
      "13643\n",
      "15670\n",
      "15914\n",
      "15933\n",
      "17241\n",
      "17406\n",
      "17763\n",
      "18303\n",
      "20325\n",
      "20507\n",
      "21311\n",
      "24165\n",
      "24533\n",
      "24769\n",
      "25883\n",
      "26151\n",
      "26910\n",
      "27062\n",
      "27114\n",
      "27259\n",
      "27769\n",
      "30687\n",
      "31697\n",
      "34153\n",
      "36810\n",
      "37041\n",
      "37267\n",
      "40140\n",
      "41659\n",
      "41665\n",
      "43227\n",
      "43810\n",
      "49969\n",
      "50887\n",
      "51074\n",
      "51129\n",
      "52904\n",
      "52991\n",
      "53235\n",
      "53290\n",
      "55768\n",
      "56248\n",
      "56836\n"
     ]
    }
   ],
   "source": [
    "for key in cleaned_tokenized_lyrics:\n",
    "    if \"love you\" in \" \".join(cleaned_tokenized_lyrics[key]):\n",
    "        print(key)"
   ]
  },
  {
   "cell_type": "code",
   "execution_count": 78,
   "metadata": {},
   "outputs": [
    {
     "data": {
      "text/plain": [
       "'word'"
      ]
     },
     "execution_count": 78,
     "metadata": {},
     "output_type": "execute_result"
    }
   ],
   "source": [
    "# Stemming words\n",
    "ps = PorterStemmer()\n",
    "ps.stem(\"words\")"
   ]
  },
  {
   "cell_type": "markdown",
   "metadata": {},
   "source": [
    "ACTUAL IMPLEMENTATION START HERE\n",
    "Step 1: Get inputs\n",
    "2: Use genre to search for songs\n",
    "3: Find exact matching words "
   ]
  },
  {
   "cell_type": "code",
   "execution_count": 181,
   "metadata": {},
   "outputs": [
    {
     "name": "stdout",
     "output_type": "stream",
     "text": [
      "dict_keys(['love', 'like'])\n",
      "dict_keys(['love', 'like'])\n",
      "{}\n"
     ]
    }
   ],
   "source": [
    "from collections import Counter\n",
    "# Find exact matching words \n",
    "# \"genre_input\" is the user inputted genre\n",
    "user_genre_input = \"love like you\"\n",
    "\n",
    "#Tokenize and clean(Remove stop words) user input\n",
    "#clean_genre_input : {0:[Cleaned user input]}\n",
    "clean_genre_input = remove_stop_words(stopwords.words('english'),{0:tokenize(user_genre_input)})\n",
    "\n",
    "#A dict with KEYS as unique NON STOP words !!from the user input!! and VALUES as a list of all the songs(their row numbers) the word appears in\n",
    "possible_songs_dict = {}\n",
    "\n",
    "for word in clean_genre_input[0]:\n",
    "    if clean_song_count.get(word) is not None:\n",
    "        #Clean_song_count: A dict with KEYS as unique NON STOP words and VALUES as a list of all the songs(their row numbers) the word appears in\n",
    "        possible_songs_dict[word] = clean_song_count[word]\n",
    "print(possible_songs_dict.keys())\n",
    "    \n",
    "#Stem the words that can't be found in song lyrics and add them to stemmed_user_input\n",
    "stemmed_user_input = []\n",
    "#Stem the words that can't be found in song lyrics and add them to stemmed_user_input, preserve words that are already found in song lyrics\n",
    "stemmed_user_input_preserve_original = []\n",
    "for word in clean_genre_input[0]:\n",
    "    if possible_songs_dict.get(word) is None:\n",
    "        stemmed_user_input_word = ps.stem(word)\n",
    "        stemmed_user_input.append(stemmed_user_input_word)\n",
    "        stemmed_user_input_preserve_original.append(stemmed_user_input_word)\n",
    "    else:\n",
    "        stemmed_user_input_preserve_original.append(word)\n",
    "\n",
    "#Update the list of possible songs by searching for stemmed words in the songs\n",
    "for word in stemmed_user_input:\n",
    "    if clean_song_count.get(word) is not None:\n",
    "        possible_songs_dict[word] = clean_song_count[word]\n",
    "print(possible_songs_dict.keys())\n",
    "\n",
    "#Get the songs that has the most number of relevant words from user input\n",
    "most_common_songs = []\n",
    "if possible_songs_dict:\n",
    "    # Count occurrences of each song index\n",
    "    song_counts = Counter(song for song_list in possible_songs_dict.values() for song in song_list)\n",
    "    # Find the maximum count\n",
    "    max_number = max(song_counts.values(), default=0)\n",
    "    # Return the song indices that appear the most\n",
    "    most_common_songs = [song for song, count in song_counts.items() if count == max_number]\n",
    "\n",
    "#For words in the user input that don't exist in any songs, find the synonyms\n",
    "# A dictionary with KEYS as user input words that don't exist in any songs, VALUES as a list of their synonyms\n",
    "word_synonym_dict = {}\n",
    "for word in stemmed_user_input_preserve_original:\n",
    "    if possible_songs_dict.get(word) is None:\n",
    "        set_of_synonyms = get_synonyms_of_word(word)\n",
    "        word_synonym_dict[word] = list(set_of_synonyms)\n",
    "print(word_synonym_dict)\n",
    "##NEED TO FIX: Not sure how to incorporate synonyms\n"
   ]
  },
  {
   "cell_type": "code",
   "execution_count": 182,
   "metadata": {},
   "outputs": [],
   "source": [
    "#Find songs without(with very little) antonyms\n",
    "def get_antonyms(word):\n",
    "    antonyms = []\n",
    "    for syn in wordnet.synsets(word):\n",
    "        for i in syn.lemmas():\n",
    "            if i.antonyms():\n",
    "                antonyms.append(i.name().replace(\"_\", \" \").lower())\n",
    "    return set(antonyms)"
   ]
  },
  {
   "cell_type": "code",
   "execution_count": 183,
   "metadata": {},
   "outputs": [],
   "source": [
    "\n",
    "# Get all antonyms for user input words\n",
    "word_antonyms = {word: get_antonyms(word) for word in clean_genre_input[0]}\n",
    "\n",
    "# Step 2: Find songs that contain these antonyms\n",
    "song_antonym_counts = Counter()\n",
    "\n",
    "for word, antonyms in word_antonyms.items():\n",
    "    for antonym in antonyms:\n",
    "        if antonym in clean_song_count:\n",
    "            for song in clean_song_count[antonym]:\n",
    "                if song in most_common_songs: \n",
    "                    song_antonym_counts[song] += 1  # Count how many distinct antonyms a song contains\n",
    "\n",
    "# Step 3: Sort songs by least distinct antonyms\n",
    "filtered_songs = sorted(song_antonym_counts.keys(), key=lambda song: song_antonym_counts[song])\n",
    "\n",
    "min_antonym_count = min(song_antonym_counts.values(), default=0)\n",
    "best_songs = [song for song, count in song_antonym_counts.items() if count == min_antonym_count]\n"
   ]
  },
  {
   "cell_type": "code",
   "execution_count": 184,
   "metadata": {},
   "outputs": [],
   "source": [
    "#Sort the input_song_list based on the polarity score(pos, neg, neutral, compound(Compound being -1 to 1, with -1 being neg and 1 being pos))\n",
    "def sort_polarity_scores(input_song_list, cleaned_tokenized_lyrics, polarity_type=\"compound\"):\n",
    "    sia = SentimentIntensityAnalyzer()\n",
    "    dict_of_polarity_scores = {}\n",
    "\n",
    "    for song_row_number in input_song_list:\n",
    "        if song_row_number in cleaned_tokenized_lyrics:\n",
    "            dict_of_polarity_scores[song_row_number] = sia.polarity_scores(\" \".join(cleaned_tokenized_lyrics[song_row_number]))\n",
    "\n",
    "    # Sort songs by the specified polarity score in descending order\n",
    "    sorted_songs = sorted(dict_of_polarity_scores, key=lambda x: dict_of_polarity_scores[x][polarity_type], reverse=True)\n",
    "\n",
    "    return sorted_songs"
   ]
  },
  {
   "cell_type": "code",
   "execution_count": 189,
   "metadata": {},
   "outputs": [],
   "source": [
    "#Takes too long to run\n",
    "result = sort_polarity_scores(best_songs, cleaned_tokenized_lyrics, \"neg\")"
   ]
  },
  {
   "cell_type": "code",
   "execution_count": 190,
   "metadata": {},
   "outputs": [
    {
     "name": "stdout",
     "output_type": "stream",
     "text": [
      "[54464, 23187, 3112, 21389, 23458, 34769, 30717, 40622, 53381, 5341, 28479, 33951, 18009, 49494, 2725, 31630, 55517, 50156, 43511, 45963, 57351, 12425, 318, 19240, 38261, 43068, 3268, 4189, 55927, 49817, 2213, 360, 19615, 22049, 12487, 57265, 27530, 41068, 15659, 26648, 56685, 956, 46041, 49796, 868, 24046, 35628, 6526, 19170, 34730, 32909, 6321, 3100, 11597, 18122, 13540, 4310, 21842, 8291, 20750, 38893, 53402, 41659, 51573, 51049, 6221, 36924, 50965, 36032, 52993, 8577, 20265, 36945, 47360, 6504, 26016, 30492, 44695, 51273, 51665, 41127, 2743, 11656, 1753, 16320, 54632, 32036, 24019, 7892, 6411, 44036, 51801, 18940, 8574, 12040, 29733, 7295, 20926, 23402, 43848, 12751, 53926, 57368, 45749, 29337, 8538, 21149, 48157, 16692, 36039, 23166, 38864, 45478, 35637, 28490, 33742, 36970, 41709, 56080, 21477, 23656, 44254, 55383, 28462, 41191, 13674, 25879, 46064, 8662, 24776, 33622, 43066, 51793, 20312, 22820, 25016, 32079, 21549, 21105, 52808, 38933, 51862, 9240, 17852, 26782, 49483, 30747, 4957, 21649, 35163, 49989, 16269, 40501, 15330, 17151, 20465, 13762, 27582, 34086, 41515, 29420, 12944, 50540, 25256, 37097, 12819, 38522, 54668, 44390, 16189, 17002, 28783, 45998, 53396, 5686, 51735, 10869, 21023, 12797, 26166, 34183, 44784, 42716, 47348, 18428, 6630, 53319, 6834, 21414, 48925, 50487, 37317, 2486, 7424, 22446, 32450, 43070, 48762, 9460, 17807, 38090, 39687, 49128, 1745, 41576, 54578, 13026, 36590, 48346, 17687, 53444, 55103, 55483, 56836, 38608, 49083, 20459, 20936, 25614, 44248, 15442, 26106, 28464, 34968, 11923, 29736, 36825, 36989, 37010, 43008, 57628, 31717, 35620, 38400, 42405, 5477, 45725, 46211, 49825, 172, 25855, 55985, 2454, 22264, 23966, 39573, 50037, 2754, 43062, 48936, 57026, 57492, 24431, 7173, 8552, 24422, 24526, 40795, 56229, 15340, 34793, 36893, 55423, 7939, 16771, 27562, 40907, 42037, 45813, 6248, 11010, 11277, 32186, 8773, 24400, 45740, 47357, 57254, 503, 6808, 14490, 8549, 24087, 27755, 47095, 57563, 27907, 40862, 51696, 11678, 28435, 40900, 52017, 23745, 26118, 55249, 963, 8529, 10979, 14100, 20097, 23021, 38350, 54931, 22079, 22330, 35668, 41636, 51379, 57270, 18012, 20048, 41519, 52021, 4031, 10923, 24185, 40161, 11079, 11548, 14994, 18530, 25445, 39375, 46133, 55558, 26650, 33961, 38990, 42540, 50390, 29748, 6478, 26335, 40335, 41665, 49031, 57261, 40674, 44229, 4518, 15260, 22073, 25006, 26146, 32194, 57001, 14504, 21719, 46319, 22043, 24680, 34897, 56306, 24335, 25886, 30824, 47177, 57244, 1733, 3137, 5073, 11544, 12128, 17665, 40313, 55059, 16209, 57063, 4940, 11427, 18529, 21054, 22897, 37306, 56020, 13043, 51800, 57552, 513, 8603, 57311, 57627, 9866, 43978, 13103, 31092, 56631, 4425, 11756, 28284, 36946, 55614, 9407, 30203, 45135, 25253, 40121, 46308, 6038, 6935, 9122, 15656, 27128, 28436, 31296, 57272, 1092, 5696, 13402, 13662, 43059, 43106, 6681, 26329, 43371, 48658, 55755, 2536, 4491, 42005, 53265, 5556, 33144, 36935, 44494, 56720, 10506, 19261, 33280, 44054, 47864, 55990, 32486, 44247, 55881, 5449, 22336, 36201, 36964, 57597, 554, 5961, 15252, 37068, 17319, 46643, 31378, 43015, 44183, 56816, 1348, 9851, 40854, 47297, 47386, 54536, 13042, 13848, 21708, 29521, 29932, 31411, 44269, 52867, 9562, 14002, 17630, 21869, 28484, 30252, 32544, 36419, 49914, 7817, 8131, 25988, 28872, 42611, 45019, 52004, 2904, 6633, 8867, 9421, 11557, 25198, 26105, 26167, 37011, 2920, 23440, 28371, 36934, 46310, 922, 8551, 8660, 17193, 44005, 47968, 592, 3548, 17217, 19520, 21066, 31213, 40823, 45866, 54936, 19776, 22663, 27625, 28248, 36873, 36944, 36954, 45819, 50774, 50890, 57545, 5952, 8851, 39840, 49245, 3718, 8994, 11386, 18605, 42917, 43807, 54660, 54941, 45244, 998, 8128, 13060, 17800, 42800, 56970, 18222, 21297, 23598, 37230, 39149, 39270, 45768, 55230, 7873, 36407, 40730, 43174, 3973, 8468, 13954, 32169, 33347, 36852, 50180, 3014, 3435, 5443, 6200, 7150, 8875, 17331, 26786, 30623, 39285, 40983, 41136, 42166, 47265, 49904, 54806, 57097, 150, 4620, 5517, 8712, 14494, 31672, 40626, 40877, 41363, 41691, 44211, 44292, 45180, 51429, 2319, 4322, 5228, 1246, 5221, 5609, 15608, 20290, 36422, 41602, 45844, 57271, 57548, 57573, 12664, 21760, 24473, 31405, 31724, 42501, 49206, 51115, 53284, 5240, 9476, 34712, 36002, 39203, 41942, 17843, 27000, 31583, 42819, 48704, 49249, 51563, 57472, 57543, 3140, 13290, 17842, 23026, 25861, 31761, 48641, 5560, 7274, 20311, 22712, 27303, 30642, 44011, 49468, 56901, 13410, 13862, 24886, 36410, 37044, 39617, 41477, 43173, 55467, 5658, 6143, 14287, 17888, 22345, 25902, 34481, 52418, 53114, 6578, 8580, 15467, 21876, 29462, 39909, 56058, 57546, 17715, 23031, 25408, 26240, 31044, 40580, 42972, 14822, 29668, 31036, 36500, 45676, 15142, 37313, 45477, 47459, 56994, 2373, 3395, 14502, 14753, 21387, 36020, 48902, 55801, 6792, 7922, 11545, 12536, 17651, 20405, 25350, 29377, 36437, 41833, 55966, 57255, 2739, 5776, 24877, 25124, 26258, 28930, 30576, 33748, 36198, 39178, 50513, 56730, 57267, 10062, 12539, 19814, 21061, 31396, 35587, 40538, 45170, 47502, 50264, 50622, 4962, 6236, 11428, 18980, 29952, 33021, 43794, 47948, 2111, 8872, 11606, 32119, 36400, 42779, 46044, 47830, 48897, 49208, 49635, 54206, 4671, 5076, 6695, 6970, 8419, 36987, 51791, 2788, 9597, 17753, 20400, 29098, 31383, 46591, 53267, 57530, 57535, 12905, 16623, 28646, 32282, 35351, 37680, 41163, 1749, 2285, 5745, 5757, 12969, 16130, 17722, 19157, 22755, 24261, 33310, 36266, 46314, 52218, 56179, 3338, 7898, 8850, 10919, 22329, 26294, 37311, 39643, 48670, 52774, 54132, 56028, 56352, 4317, 6303, 8856, 10179, 14525, 19575, 25628, 29525, 38641, 39268, 46297, 10423, 22344, 29617, 31509, 33526, 38728, 41168, 49616, 51116, 56065, 8107, 8123, 22335, 34971, 36432, 41630, 44753, 55252, 56081, 10838, 11540, 20161, 22342, 29282, 32887, 32938, 36017, 36983, 44226, 45743, 57258, 478, 5105, 10282, 10540, 14904, 15444, 16115, 18837, 29267, 30531, 31433, 33437, 33557, 44433, 6413, 17667, 35796, 37682, 39473, 1834, 3815, 6015, 11556, 18087, 20331, 20879, 34055, 36936, 41923, 43396, 45773, 48500, 2303, 2584, 4825, 7396, 8006, 8989, 10342, 16295, 25017, 29352, 31386, 36329, 36381, 40850, 41649, 55530, 57142, 1639, 5128, 5554, 10884, 11538, 12043, 15314, 21534, 22039, 22343, 31074, 39509, 41006, 43828, 44447, 52223, 57458, 4720, 7235, 19630, 23433, 27510, 28601, 33339, 36043, 40140, 53691, 55047, 2757, 32852, 33169, 43585, 49096, 4547, 11760, 15457, 17539, 24841, 29520, 31428, 31707, 32459, 33717, 36491, 41666, 42324, 42994, 52957, 53007, 55213, 2498, 24225, 26162, 26878, 27549, 31557, 33980, 45452, 46705, 7, 3556, 4706, 8109, 8111, 14803, 15150, 18536, 40248, 41627, 41633, 44499, 45132, 45713, 45849, 51173, 52775, 3551, 12148, 12858, 33221, 40747, 57550, 511, 983, 15939, 24665, 34844, 37654, 41541, 43625, 49109, 51328, 56067, 10801, 19027, 25063, 26315, 32491, 49657, 56733, 1867, 3562, 4581, 10519, 11865, 19503, 27737, 35060, 38558, 39677, 43993, 45156, 48025, 48853, 50873, 8095, 14961, 16333, 17617, 18893, 19131, 25588, 41228, 57462, 1983, 3554, 4714, 11399, 19335, 19584, 24465, 32262, 41997, 52747, 56784, 57059, 57289, 857, 17225, 21316, 28663, 33305, 41663, 49240, 54525, 57145, 2082, 5678, 10191, 10802, 14836, 17154, 22350, 30503, 33658, 33781, 40071, 41606, 42344, 43220, 45510, 45864, 47301, 50549, 55312, 962, 1105, 5692, 7261, 10172, 19860, 28394, 33092, 34358, 37484, 40151, 42367, 56355, 2750, 3380, 5551, 10355, 11984, 17789, 23663, 30449, 35419, 38513, 40263, 44641, 46638, 48246, 49505, 50155, 51441, 54595, 56456, 672, 2355, 3971, 11484, 19138, 21009, 25552, 28967, 37326, 37658, 41055, 42509, 995, 4949, 5611, 6825, 10268, 13718, 17657, 17890, 22892, 28635, 31744, 36046, 36436, 38033, 38589, 39689, 41608, 45657, 53290, 57540, 2288, 11529, 20266, 21610, 22334, 27009, 29587, 30761, 35585, 36823, 39259, 40631, 41225, 44811, 48868, 49216, 54080, 57518, 2508, 5537, 7642, 12383, 13377, 16421, 22327, 24461, 29626, 29734, 37312, 37614, 56774, 3643, 4925, 10024, 10718, 11042, 15248, 16715, 22333, 29825, 30272, 32789, 43675, 49598, 53005, 56742, 57536, 1487, 4662, 6067, 17549, 18682, 23419, 41196, 50921, 51799, 5543, 9412, 13483, 13659, 16503, 20904, 26165, 30027, 34296, 34407, 39701, 44844, 46083, 46094, 52832, 56814, 5787, 6863, 7448, 13173, 15017, 16975, 18229, 22453, 28463, 33930, 41220, 41618, 44986, 45604, 47789, 52711, 4, 4509, 8992, 16612, 17550, 20309, 22038, 25002, 31091, 33779, 50785, 51292, 53704, 1338, 5417, 6050, 7475, 9723, 13560, 14559, 14704, 21733, 22520, 26951, 38019, 47407, 51131, 51464, 51777, 54673, 57482, 3152, 8540, 13649, 14882, 16480, 17267, 19526, 28710, 31422, 32007, 33672, 41307, 45074, 45462, 48770, 50277, 2824, 3212, 4394, 6033, 6514, 8464, 10447, 10730, 12252, 16476, 22011, 22093, 22412, 23036, 32734, 34326, 43063, 44372, 51266, 777, 9417, 21702, 22338, 24589, 27072, 28486, 34833, 39099, 42658, 42679, 46114, 51453, 51595, 6861, 7294, 8132, 9196, 11103, 13063, 13661, 21393, 22636, 26341, 28185, 29680, 36799, 41639, 41844, 42546, 45504, 45939, 47468, 52427, 53089, 4338, 5072, 8852, 14048, 20127, 25072, 27667, 31769, 33116, 33139, 33493, 36037, 45738, 629, 1039, 3706, 4067, 10343, 13010, 14509, 16682, 18374, 21447, 34803, 39767, 45512, 45753, 48119, 51436, 54267, 255, 2775, 23954, 31719, 36390, 37584, 42047, 44689, 46382, 53383, 55484, 56727, 1748, 3546, 21681, 25267, 31055, 34321, 36682, 41565, 41670, 44239, 47738, 48881, 50369, 50427, 54789, 6652, 7899, 11725, 13784, 14088, 21101, 22957, 26290, 26557, 28438, 29430, 29491, 41635, 42663, 43986, 46942, 106, 142, 5614, 6527, 12529, 12531, 14038, 19175, 22254, 22961, 28091, 35353, 37308, 41824, 47214, 49020, 50183, 50915, 51166, 1333, 3587, 4540, 7003, 12520, 18210, 21874, 23778, 33529, 37745, 50395, 50574, 54410, 56729, 56778, 57045, 1013, 3043, 4075, 4226, 5729, 13537, 15139, 17345, 21718, 21902, 43731, 45475, 46298, 49043, 53004, 57547, 57555, 1669, 5870, 20129, 22861, 26503, 27196, 27508, 36960, 39731, 41865, 46093, 48869, 51098, 53008, 4897, 7451, 10550, 13778, 15409, 25137, 27557, 28117, 33643, 35228, 38066, 45982, 46353, 46670, 47361, 55345, 57467, 3553, 5518, 5946, 9462, 11342, 14510, 15533, 29344, 29545, 30457, 32730, 37075, 42792, 45152, 45281, 47442, 48870, 49446, 50280, 54042, 56822, 3444, 4983, 7897, 8886, 10247, 15487, 20337, 30498, 31108, 35174, 41342, 53175, 56735, 3438, 10203, 12950, 14642, 30136, 33615, 39093, 41557, 41656, 50496, 51916, 53272, 53657, 53897, 3640, 4162, 5777, 5923, 10937, 16708, 21963, 33266, 33718, 34741, 39309, 41601, 44688, 45433, 53460, 57147, 57493, 1026, 11146, 11608, 15811, 15812, 18284, 23016, 30020, 30740, 37648, 38659, 39171, 40382, 42360, 905, 2346, 23670, 27246, 32444, 36287, 36426, 36977, 37673, 40381, 41637, 42721, 44286, 45611, 50458, 54667, 56758, 1737, 1887, 2938, 3069, 11764, 13369, 16738, 19398, 20481, 21878, 25769, 30315, 30832, 36495, 36507, 36835, 39874, 47416, 56820, 3610, 7440, 8879, 8940, 12533, 19717, 21616, 22337, 26964, 31404, 33222, 34196, 35372, 37350, 40472, 40539, 41880, 42890, 47716, 48901, 50703, 50977, 51802, 52528, 1301, 11002, 12011, 16278, 18660, 23167, 27181, 27871, 35173, 40846, 41297, 46299, 51883, 54245, 55564, 2148, 8298, 17658, 19152, 20754, 23889, 24489, 27267, 30517, 30736, 32511, 38604, 39647, 39726, 41483, 49071, 782, 9665, 15179, 17239, 21309, 21590, 21715, 21960, 22245, 24897, 25028, 27286, 28380, 31087, 31874, 33315, 37183, 43169, 43792, 44093, 45906, 48949, 49339, 49416, 51561, 53919, 957, 3107, 3550, 4020, 5621, 9400, 9490, 20675, 22731, 25738, 29569, 31735, 38203, 41956, 46450, 48718, 49199, 53721, 133, 6165, 6968, 9899, 11039, 14488, 16667, 20323, 24870, 27351, 29399, 30938, 31496, 35535, 43029, 47162, 57262, 57485, 5352, 5627, 6594, 10500, 16479, 17636, 18886, 26668, 31415, 33791, 34960, 36498, 39757, 42893, 44550, 51304, 53821, 848, 10523, 12935, 16438, 21013, 22308, 32105, 33949, 34062, 39323, 41237, 41588, 41657, 42990, 43705, 44129, 47761, 50446, 51812, 57047, 1765, 3758, 10219, 10253, 14914, 16391, 21868, 25865, 35689, 39071, 41390, 51008, 51990, 54396, 54696, 55127, 57021, 57150, 2898, 2981, 11183, 11487, 11554, 23219, 24681, 27439, 27756, 28854, 29983, 33326, 33377, 35413, 36025, 36073, 36217, 40463, 48686, 49028, 49324, 57071, 3789, 5660, 6543, 16521, 21617, 22976, 24760, 28533, 31145, 32747, 32762, 33494, 35059, 36006, 38747, 40019, 40196, 44877, 46827, 51341, 55685, 57058, 2155, 2353, 4037, 4383, 5138, 6206, 12518, 15414, 22667, 28329, 39461, 43360, 52967, 981, 4995, 9729, 10142, 17508, 19585, 24506, 30491, 38363, 47843, 50979, 429, 5655, 7820, 8416, 8769, 12612, 13120, 18626, 19997, 28250, 30469, 34099, 34615, 36459, 39699, 41472, 42645, 47584, 50471, 50572, 53531, 54499, 54543, 2745, 9588, 9648, 10526, 26652, 28246, 30646, 34764, 36433, 36985, 40639, 41104, 41822, 41965, 47437, 48037, 56809, 4989, 8104, 21875, 23504, 27287, 37734, 38217, 39300, 40938, 47167, 50160, 51819, 56460, 134, 2361, 3123, 5164, 11173, 15852, 23140, 29314, 33892, 36804, 41540, 41978, 45609, 46488, 2031, 7044, 7639, 8475, 9024, 12293, 21722, 24838, 27123, 29650, 31736, 32202, 33890, 41611, 43150, 44370, 45699, 48452, 52480, 5995, 8924, 9777, 12678, 15186, 15341, 15468, 16460, 18115, 19418, 24007, 28979, 30490, 31258, 35123, 36993, 38173, 40824, 41660, 44686, 45695, 51767, 52043, 53176, 53258, 56660, 545, 1727, 4526, 6177, 8056, 11724, 12131, 14386, 16626, 20856, 21813, 22924, 27261, 32957, 33335, 40820, 51718, 54121, 10366, 13955, 17740, 18206, 19133, 22077, 23249, 28093, 28410, 30493, 31484, 31991, 32382, 34368, 34996, 36937, 37880, 39904, 41315, 42371, 48096, 50379, 57483, 9029, 9220, 9781, 10832, 11423, 11543, 12464, 13129, 13342, 16322, 16469, 16710, 17491, 17678, 19641, 21783, 24832, 24834, 28068, 31059, 34181, 41372, 49151, 51488, 53161, 54352, 55250, 57084, 57266, 1355, 2463, 4360, 12515, 13188, 13397, 15088, 16555, 17583, 19393, 22063, 31155, 31403, 32507, 34012, 36252, 37566, 39026, 39734, 41594, 44570, 44704, 50722, 51805, 54418, 55836, 203, 206, 4392, 6355, 10964, 17420, 25346, 26338, 27027, 27397, 27524, 29832, 33097, 33580, 38644, 41932, 42549, 42998, 43256, 43782, 46003, 53134, 53227, 7761, 7904, 10575, 11483, 12434, 12507, 14280, 15013, 16172, 17099, 17934, 32991, 34542, 36015, 37579, 37627, 38162, 40526, 40686, 41528, 46871, 47068, 53162, 54159, 57343, 57465, 3782, 9234, 10994, 16116, 20140, 21256, 24455, 25980, 26743, 34829, 37342, 44199, 47086, 53437, 54674, 909, 2575, 10107, 11223, 12961, 14414, 15262, 18452, 26399, 27194, 30515, 31068, 33071, 33774, 38156, 40508, 41459, 52799, 6188, 9558, 10554, 13017, 15833, 16473, 18531, 19698, 29426, 31555, 31562, 35286, 35430, 36463, 44763, 47332, 52491, 57554, 603, 1470, 4550, 5854, 10221, 17148, 20612, 22036, 22244, 26747, 28685, 31053, 32390, 33736, 33770, 36868, 40123, 45553, 46924, 49060, 52554, 55319, 1236, 3489, 5588, 7932, 8932, 10476, 10719, 11792, 13136, 15166, 15493, 17706, 19150, 24846, 27076, 31241, 35224, 37733, 39745, 40029, 43101, 43613, 44230, 45500, 52827, 57562, 8855, 9736, 11228, 11812, 13797, 22742, 23575, 27703, 34333, 35661, 36849, 37687, 38084, 40448, 41640, 41855, 41940, 44050, 47941, 49412, 52389, 53316, 54399, 4416, 5234, 5743, 8350, 10034, 17282, 17661, 22089, 25031, 29913, 34074, 37113, 40186, 41175, 44259, 46660, 51814, 51825, 53570, 54256, 3719, 5286, 11547, 11933, 13110, 14951, 17858, 21193, 22258, 23099, 23712, 27521, 28850, 29955, 30507, 30543, 31414, 31814, 33606, 34527, 35285, 39553, 41714, 46640, 47362, 174, 1706, 4041, 5760, 10978, 11102, 11442, 12902, 13820, 15237, 15815, 20798, 21031, 24322, 27060, 27559, 27682, 28765, 32170, 33413, 39227, 39552, 40745, 41064, 43428, 44966, 49129, 51934, 53012, 54024, 57068, 1591, 5348, 5733, 6492, 7219, 12754, 14998, 20445, 27186, 38045, 38718, 41207, 43817, 47101, 50787, 51078, 51204, 52467, 56008, 4307, 5532, 5673, 5687, 8854, 11791, 13494, 18062, 21863, 22300, 29016, 30232, 30477, 30873, 32179, 33252, 33884, 34497, 34659, 39231, 41270, 46228, 51012, 51094, 53580, 53853, 10752, 11329, 14760, 16408, 16989, 18646, 19144, 19882, 22281, 26490, 29839, 30467, 33843, 34941, 35423, 35965, 39419, 40252, 41807, 43093, 43147, 48642, 49498, 54128, 1986, 2594, 6048, 6531, 7379, 14320, 16703, 22202, 22540, 22896, 24190, 25321, 25357, 27962, 28603, 29108, 29831, 30967, 34652, 38196, 40142, 45735, 45820, 55194, 56088, 57503, 1326, 2713, 2786, 6626, 10071, 10336, 10825, 12452, 13425, 14069, 15051, 16305, 16501, 16755, 19229, 20305, 25414, 27330, 28191, 29002, 29405, 30394, 31317, 32413, 39479, 41201, 41612, 42634, 46804, 56973, 189, 7287, 7885, 8096, 9711, 10000, 11489, 11604, 14394, 17327, 17468, 19495, 21660, 22325, 22383, 24022, 26551, 29682, 30486, 30780, 32136, 32250, 33181, 35040, 37323, 40679, 42298, 42630, 50448, 51514, 55657, 51, 5493, 5628, 11321, 13102, 17168, 18464, 22211, 30323, 37074, 39655, 40735, 41506, 45208, 46880, 49726, 55982, 4566, 4819, 6168, 7688, 8864, 11468, 12367, 12840, 15449, 17368, 19321, 20826, 21727, 32121, 32457, 32638, 36889, 42763, 43120, 49205, 54014, 2192, 2773, 3543, 10528, 11152, 11439, 13221, 13382, 15587, 16475, 17211, 19230, 19765, 20352, 24894, 26457, 28488, 30336, 33558, 34661, 41837, 42661, 43183, 43253, 46626, 48514, 49452, 53573, 5683, 5731, 6132, 7442, 8857, 11005, 11449, 12036, 13395, 17597, 26456, 26644, 28632, 37410, 37769, 40544, 41235, 41572, 44252, 45722, 48264, 51591, 52228, 53327, 54552, 1739, 2769, 7991, 9752, 12589, 15065, 20316, 26180, 26371, 28132, 30514, 34703, 35188, 37653, 42854, 44402, 48495, 50868, 51040, 51099, 51375, 55566, 55871, 56465, 57616, 2053, 4361, 4974, 6175, 7178, 9050, 9579, 11441, 12116, 13224, 14040, 14135, 18618, 20282, 23785, 31716, 33653, 42542, 43976, 49239, 50813, 53518, 53761, 54142, 55282, 55328, 56799, 57316, 3132, 4444, 5581, 6804, 18505, 24915, 27750, 28724, 30654, 31230, 31336, 31501, 31749, 32576, 32654, 36485, 37544, 39248, 42533, 47856, 48643, 51512, 51828, 53362, 54110, 55556, 50, 1776, 3632, 3820, 5596, 7285, 9594, 10028, 16568, 16637, 17865, 18524, 19307, 19558, 20287, 20388, 22273, 23751, 24096, 25806, 26156, 27032, 28751, 29406, 29739, 30725, 32626, 37094, 38835, 40201, 40934, 41607, 41860, 45737, 52767, 54367, 221, 1279, 1650, 5647, 6242, 9235, 10067, 10382, 12027, 16567, 18127, 18888, 20687, 20817, 21631, 23354, 25603, 26394, 30485, 31356, 31635, 33885, 34286, 37359, 37360, 38946, 39582, 40429, 41546, 43574, 44266, 44777, 48489, 48863, 52280, 54398, 56216, 2009, 2010, 3806, 5730, 5741, 17685, 17776, 17938, 20808, 21542, 22120, 23057, 25810, 28289, 30083, 30549, 31193, 31649, 33267, 36191, 36318, 37005, 38556, 39729, 41215, 41983, 49689, 57524, 2518, 5041, 5305, 6484, 10149, 10972, 16740, 17367, 19092, 22901, 23044, 24230, 30262, 32279, 32615, 39439, 39485, 40550, 41053, 41521, 41526, 47703, 50839, 56810, 3426, 4306, 5083, 6786, 8858, 9161, 9842, 11101, 11148, 12264, 12523, 13367, 17485, 17750, 20409, 23634, 24767, 31077, 34518, 34816, 39709, 39753, 42342, 42654, 46749, 47934, 48861, 1853, 4623, 5732, 6300, 6477, 6528, 8019, 13991, 16472, 18264, 20411, 21880, 23780, 24338, 26104, 30086, 31437, 32162, 32661, 38861, 52435, 138, 976, 5662, 7428, 9474, 13759, 15256, 16502, 17557, 19874, 20947, 22282, 30349, 32798, 34920, 37498, 39464, 41165, 41897, 43125, 44718, 45398, 45841, 49006, 51036, 51766, 52441, 52780, 53983, 54886, 57564, 795, 6534, 7653, 9539, 11448, 16127, 16512, 17559, 22360, 25901, 26770, 27107, 27220, 30530, 31698, 32509, 33771, 34976, 36845, 36973, 37640, 39886, 46339, 48932, 49762, 50380, 50802, 50972, 52804, 54066, 54486, 55048, 55980, 56192, 10, 3561, 3793, 5498, 5502, 5716, 6537, 6689, 7118, 9771, 10256, 11317, 11584, 14075, 15842, 16135, 17765, 19273, 20238, 23207, 23733, 24005, 25076, 26094, 27131, 30031, 31740, 32840, 37307, 37448, 37580, 38399, 38828, 41953, 43170, 45932, 46585, 49015, 51855, 53628, 54687, 57308, 4282, 10913, 11156, 11561, 11795, 13251, 17313, 17923, 20372, 20835, 21735, 21751, 24845, 26352, 31725, 32504, 38770, 40491, 41928, 43426, 43723, 46016, 47701, 48101, 49739, 50095, 52892, 56232, 460, 8245, 8482, 8847, 11326, 11471, 12294, 14423, 15517, 15606, 16186, 19272, 21082, 29318, 30356, 30451, 30460, 30778, 37659, 37987, 38392, 41009, 45200, 48629, 51578, 53084, 53358, 54263, 55925, 562, 1107, 1167, 1738, 1744, 1948, 2309, 5900, 6993, 8866, 9245, 10198, 13263, 14288, 15776, 16483, 16553, 16764, 17301, 23425, 26356, 28058, 31144, 31179, 32525, 32755, 38412, 38542, 39738, 40457, 43193, 43251, 45969, 46907, 49228, 50749, 51634, 55149, 56198, 57253, 3227, 6225, 6897, 8477, 10755, 11761, 17119, 20930, 23630, 24940, 25822, 26592, 30058, 33359, 34377, 36864, 39282, 42359, 44225, 47358, 50531, 51176, 51603, 55357, 797, 8130, 8535, 8865, 11759, 12107, 13116, 18615, 23581, 26079, 26593, 29907, 29970, 31229, 31697, 33668, 35056, 41112, 41967, 42537, 44208, 45299, 49196, 51559, 52561, 53899, 267, 4530, 4927, 5173, 8415, 10553, 11117, 12445, 17373, 18987, 19409, 21817, 23072, 24085, 26452, 28704, 30422, 30729, 31734, 32796, 40537, 41988, 44687, 44736, 46955, 1367, 2351, 5666, 10771, 11461, 14130, 17259, 20940, 21670, 24935, 25014, 26184, 26549, 27655, 28718, 28781, 31391, 33030, 37330, 39168, 40918, 41532, 41890, 42809, 44006, 45012, 51460, 55686, 111, 243, 3642, 6035, 6687, 8114, 9321, 13197, 24476, 24490, 24864, 26544, 28702, 29849, 30513, 34983, 40989, 41927, 42513, 42905, 3402, 5751, 6801, 7998, 8113, 11418, 11780, 13876, 14825, 22262, 23142, 23761, 28107, 28815, 29473, 29711, 29974, 30759, 31887, 32520, 33370, 37683, 38220, 39518, 41958, 43422, 46918, 48193, 48397, 48997, 49229, 49546, 55427, 56801, 1283, 1821, 2998, 4192, 5411, 5573, 7542, 8099, 8443, 11104, 11106, 11920, 16597, 17830, 18479, 19902, 20538, 21535, 21821, 22066, 22253, 24150, 24925, 26801, 28447, 31202, 31831, 32068, 36033, 37647, 39434, 42644, 43904, 45191, 45728, 50801, 53314, 53700, 54229, 56899, 3670, 4546, 10451, 10524, 15630, 18189, 19942, 20102, 20783, 22522, 23353, 23706, 23817, 24862, 27546, 28377, 30462, 33056, 37541, 39006, 39242, 39324, 40237, 41593, 41766, 44231, 45789, 46832, 48644, 48672, 49223, 49716, 51795, 56501, 2638, 5126, 5752, 7186, 7655, 10843, 11464, 12541, 14291, 17163, 18120, 25096, 25672, 26177, 27905, 28975, 31090, 31590, 32134, 38373, 39165, 40175, 40598, 41613, 46106, 48492, 50135, 50244, 50501, 54828, 56015, 179, 7884, 9685, 10077, 12005, 13932, 14500, 15947, 16489, 16565, 18647, 18951, 21925, 23320, 28919, 30022, 30454, 31860, 31910, 33321, 34222, 37655, 39429, 41462, 41786, 41859, 43401, 43415, 43768, 43832, 48174, 49470, 50417, 50432, 50512, 50567, 51570, 51822, 52201, 53617, 56247, 57101, 57323, 1865, 2025, 6330, 11559, 11884, 12502, 15561, 17051, 17562, 22223, 22526, 23043, 25238, 26302, 28768, 29533, 29791, 31104, 34306, 35380, 35734, 36021, 38204, 38668, 39287, 39619, 41862, 42337, 42707, 46068, 51503, 52887, 1113, 1317, 3514, 4959, 9640, 11245, 11435, 11823, 16486, 16697, 18446, 23699, 23815, 23950, 25192, 26168, 27744, 28473, 28539, 30077, 30838, 32188, 32998, 33259, 35169, 39420, 40163, 40494, 40773, 44933, 45174, 46885, 47371, 47944, 50137, 52805, 53865, 54123, 57551, 54, 4238, 4409, 6234, 10388, 11778, 12498, 13564, 18522, 18670, 19906, 20427, 20683, 24055, 25331, 25820, 26334, 28938, 29414, 30009, 31397, 31520, 39650, 40455, 41144, 41919, 42060, 42374, 46686, 48673, 49055, 49933, 50877, 1826, 4604, 4964, 5927, 7333, 8071, 10657, 11179, 12193, 15027, 17688, 19827, 22939, 22956, 25859, 27179, 29882, 31732, 32109, 34998, 36099, 36810, 39212, 39234, 40253, 40911, 44296, 46851, 47048, 48513, 49225, 51876, 51955, 53204, 53663, 53970, 55356, 56968, 547, 693, 5131, 5479, 6107, 8853, 9756, 13915, 14158, 17792, 19822, 22671, 23836, 24222, 25269, 25786, 26432, 29346, 30182, 32539, 33166, 34357, 36667, 39276, 39563, 44067, 44200, 44765, 45573, 46646, 48028, 53978, 54564, 55028, 2580, 4512, 5920, 6873, 8301, 8431, 10058, 10186, 10303, 10568, 13339, 13386, 13655, 14498, 21161, 23565, 25022, 25746, 25873, 26121, 26136, 27200, 28129, 28483, 28764, 28991, 29038, 29779, 32246, 33340, 36487, 37036, 37078, 38868, 40649, 41298, 45067, 46476, 47484, 48183, 48712, 53723, 54814, 54833, 56055, 56745, 2762, 8058, 11036, 11275, 13518, 16253, 17277, 17629, 20302, 22088, 24296, 26642, 26686, 28675, 30424, 31189, 32259, 33955, 34337, 34609, 36891, 38603, 43188, 44196, 47551, 47925, 49200, 49700, 50138, 52536, 52869, 55336, 55626, 392, 774, 1891, 12465, 12821, 12900, 13912, 14818, 18140, 19624, 20079, 23673, 26313, 26327, 26524, 27180, 28416, 30260, 30867, 33008, 33087, 35357, 38727, 39449, 39762, 42257, 42369, 47455, 49065, 50416, 52294, 53376, 54918, 56782, 57102, 306, 2095, 2520, 3383, 10995, 13083, 14698, 17013, 19821, 20003, 20418, 20669, 20680, 22563, 23405, 26426, 26692, 26714, 28737, 28926, 29266, 29357, 31134, 31626, 32599, 33901, 34810, 34928, 36197, 36303, 39681, 40049, 42519, 44016, 44272, 44350, 44369, 44375, 45760, 50150, 52029, 54262, 55311, 56087, 56761, 361, 1394, 5391, 6557, 7654, 8884, 11309, 11453, 13172, 14033, 14361, 16699, 21531, 25386, 28461, 29368, 32356, 35852, 37377, 38142, 39370, 39865, 40564, 42191, 42933, 43240, 45197, 46796, 49971, 52762, 54646, 56074, 1968, 3705, 3779, 6460, 7227, 8249, 9457, 11558, 11847, 12938, 13357, 14302, 15228, 17241, 17948, 18048, 18651, 20689, 22966, 23011, 27048, 28034, 30874, 31713, 33409, 34122, 36196, 40972, 42514, 48585, 49036, 49608, 49942, 50862, 51041, 55992, 57269, 2065, 3084, 4545, 8186, 12554, 13692, 13695, 16756, 16788, 16998, 18692, 19149, 19199, 23466, 26100, 26474, 26674, 27518, 28449, 28749, 29811, 31449, 31709, 32659, 32893, 36049, 38024, 38320, 39269, 43247, 43645, 45154, 47375, 51459, 52319, 53092, 53373, 55022, 56255, 56492, 56793, 628, 5087, 5099, 5386, 6512, 6954, 8202, 8494, 9076, 9337, 11490, 13785, 14035, 14067, 14399, 14562, 14770, 16307, 18311, 23655, 24355, 26312, 26759, 29799, 29897, 35362, 37605, 41920, 43225, 43577, 45397, 48918, 49766, 54137, 54635, 54701, 1588, 1731, 5694, 8440, 9458, 11562, 11594, 11648, 12670, 13796, 15828, 16185, 17876, 18108, 19348, 20347, 20825, 21408, 22098, 22536, 23453, 28585, 29751, 30291, 30510, 31113, 33798, 36499, 37371, 39998, 41216, 41230, 42844, 45141, 46996, 50525, 52107, 53462, 53505, 55154, 158, 218, 2274, 2566, 4285, 6097, 6228, 6611, 7008, 9776, 10171, 11369, 13872, 14454, 17063, 18278, 18869, 19045, 20803, 23854, 26119, 30461, 30606, 31654, 32281, 32738, 39291, 41364, 41948, 42327, 45222, 45723, 47015, 48038, 51409, 51467, 51994, 52761, 53764, 56153, 56272, 1594, 2711, 3216, 7084, 10867, 11200, 13132, 14136, 17251, 17653, 18221, 18947, 19763, 22310, 23804, 24111, 24207, 25003, 25131, 26570, 28583, 31571, 31773, 32494, 39039, 39945, 40680, 41482, 41935, 42127, 42503, 43907, 45652, 47324, 49204, 50202, 51027, 51775, 53372, 55113, 2481, 4191, 6170, 6657, 7181, 8145, 9153, 9774, 11286, 11595, 12199, 15104, 15112, 18919, 20204, 23900, 26343, 32498, 36773, 36800, 38587, 42370, 43416, 44698, 46085, 49337, 51905, 54222, 54663, 54705, 55116, 68, 92, 1572, 1810, 1990, 5791, 9015, 10776, 11426, 20327, 21259, 25442, 26519, 27308, 27427, 28527, 30739, 34921, 36203, 36711, 36784, 37400, 39304, 39450, 40035, 43682, 43688, 44194, 48950, 52760, 53282, 54636, 57537, 57571, 254, 375, 566, 2231, 2281, 5541, 8028, 8439, 14858, 18265, 19278, 24199, 26673, 28002, 28929, 29759, 34139, 36860, 37678, 39663, 40581, 41650, 47828, 48051, 50551, 52335, 55422, 2418, 2547, 3012, 4520, 5114, 5224, 6326, 6702, 7188, 12351, 13205, 13556, 14311, 16063, 17235, 21156, 26292, 29995, 30373, 30444, 31519, 34447, 40643, 42970, 46595, 49438, 50583, 51361, 52259, 52862, 53138, 56270, 56307, 56764, 56834, 57010, 2386, 3726, 4467, 4543, 5908, 6156, 6395, 7241, 9439, 9557, 9659, 11552, 13177, 17045, 17880, 18471, 18672, 18871, 19290, 21717, 23971, 24297, 24415, 24612, 24988, 25074, 26358, 27284, 28199, 35632, 36180, 38591, 42007, 43383, 46352, 46693, 47730, 53255, 55104, 56473, 1079, 3421, 4003, 4024, 4046, 4999, 6336, 8898, 10148, 11167, 11762, 12085, 13893, 14095, 15245, 16790, 17333, 17355, 20681, 22265, 22332, 23704, 26793, 28847, 28963, 34136, 34737, 37080, 40171, 40988, 41038, 43783, 44987, 50022, 52345, 53140, 53426, 54693, 57556, 631, 1240, 6394, 6821, 6926, 7279, 10357, 11719, 11802, 12349, 13066, 17155, 24071, 24936, 26133, 27947, 31559, 36629, 37663, 37775, 38216, 43601, 44723, 46567, 49093, 51118, 768, 1018, 2527, 3658, 4588, 6749, 6772, 6979, 8604, 11570, 12296, 12368, 12880, 16742, 17329, 20299, 20368, 22256, 27747, 30047, 30910, 32176, 35152, 36461, 36995, 37574, 39612, 40582, 41288, 41669, 45490, 46300, 47675, 48878, 52619, 55813, 56189, 57601, 21, 201, 1106, 2171, 4255, 6476, 6715, 7095, 8933, 11016, 11879, 12044, 14077, 14475, 15382, 15610, 17937, 18448, 18964, 19658, 19774, 19863, 21417, 24470, 26624, 27252, 27296, 27537, 27964, 31120, 33327, 33666, 33842, 36834, 36846, 38389, 41062, 42932, 45466, 51240, 51310, 51810, 52464, 54015, 54171, 55132, 55817, 56029, 56203, 2959, 3618, 3994, 11086, 11218, 11331, 13642, 15247, 17078, 17878, 19070, 19384, 19803, 20460, 20682, 22215, 23007, 23081, 26129, 26660, 28422, 29631, 31073, 32017, 32178, 33749, 33976, 37565, 38559, 39654, 40102, 40156, 41035, 41197, 41699, 43552, 45718, 45764, 47507, 48050, 48530, 50507, 50775, 51758, 52854, 53360, 55635, 56082, 56617, 57095, 2007, 2090, 2408, 2561, 2617, 4728, 7634, 7664, 8748, 9057, 9616, 12562, 13032, 13926, 15600, 16747, 18996, 19014, 19173, 19858, 22881, 22929, 24861, 27096, 27299, 27316, 27346, 28752, 33726, 35929, 36421, 39532, 39625, 40845, 41375, 41678, 41682, 41912, 43425, 48521, 50363, 52147, 52474, 56381, 56771, 427, 2633, 2658, 3407, 5759, 6674, 8502, 9393, 10220, 13145, 13896, 14874, 15478, 16477, 19218, 22041, 22096, 24149, 26068, 26535, 28077, 28562, 28687, 29027, 32168, 33956, 35639, 36560, 36986, 38246, 38999, 39556, 40146, 40265, 42008, 42659, 45189, 45607, 45721, 49027, 49138, 49688, 50875, 55079, 55935, 56221, 57124, 2852, 3387, 5027, 6025, 8488, 10598, 11546, 12228, 15241, 16191, 17894, 18260, 18329, 24024, 26260, 29358, 31254, 32735, 32995, 33220, 36790, 37952, 39083, 39705, 39742, 39830, 39884, 41926, 46598, 52032, 52568, 53112, 53827, 54163, 1245, 2407, 3983, 4396, 4971, 5298, 7331, 9198, 10252, 13168, 16487, 17111, 17654, 17758, 17771, 18756, 18920, 20375, 21438, 23386, 23707, 23824, 24833, 25129, 30344, 31080, 31159, 34231, 34822, 35338, 36631, 39256, 41204, 41392, 41422, 41569, 43656, 44207, 45704, 46145, 47215, 47511, 50127, 54370, 56911, 56930, 548, 874, 3702, 6677, 8909, 10711, 11659, 12184, 12922, 13105, 19855, 19926, 21726, 22272, 24599, 25305, 26183, 26481, 27011, 27160, 27711, 29323, 30124, 30599, 30809, 31647, 32478, 33329, 34498, 35533, 36776, 36900, 37426, 37882, 41156, 41703, 44515, 44921, 45917, 46805, 48041, 48873, 50863, 50885, 52012, 52478, 53036, 54197, 54680, 54848, 985, 3583, 6238, 9652, 9798, 12908, 14784, 15370, 18377, 21995, 26015, 28826, 30608, 30655, 32987, 36103, 37578, 38584, 38844, 39101, 39266, 39402, 39657, 40229, 40946, 42516, 42701, 44265, 46086, 46688, 47496, 47922, 49969, 50891, 52270, 52770, 52824, 53342, 53770, 54504, 55045, 57279, 343, 5872, 7638, 10394, 10834, 13030, 16876, 19031, 19627, 19759, 21401, 24922, 26500, 28662, 29383, 30284, 31412, 31791, 34291, 36008, 37348, 38231, 39153, 39160, 40525, 41054, 41128, 41203, 41902, 41976, 44834, 44882, 47985, 48056, 48889, 49210, 49538, 50625, 52745, 55164, 55965, 56898, 2296, 2460, 5197, 5762, 6559, 12970, 14809, 15380, 15713, 16290, 16904, 17680, 18112, 18196, 18455, 18955, 21858, 24289, 24541, 26753, 26862, 28220, 28760, 29781, 30746, 30912, 31131, 31136, 32182, 34230, 37328, 38736, 39559, 39608, 39937, 40486, 43713, 43717, 47748, 47791, 48451, 51476, 52729, 54316, 56800, 262, 978, 1617, 1667, 2328, 3108, 4435, 9376, 9717, 12289, 12978, 15699, 17076, 19446, 22649, 23006, 23600, 23912, 27311, 30019, 30694, 31273, 32503, 33357, 33600, 34825, 35034, 35305, 35403, 36537, 38052, 38422, 39530, 39584, 40183, 49459, 51029, 51924, 57466, 53, 1259, 6325, 11640, 11910, 12154, 14777, 17258, 17561, 17652, 18166, 20924, 21182, 21507, 24373, 25660, 25780, 26469, 29760, 30509, 33276, 36597, 39775, 40180, 41176, 41898, 41941, 43354, 47158, 47666, 51750, 51901, 53759, 57064, 139, 151, 863, 1871, 2494, 2887, 3566, 3686, 5244, 5325, 5587, 6789, 7038, 8505, 8869, 11647, 12313, 14993, 16225, 17649, 18718, 18860, 21275, 21405, 23042, 23356, 23628, 24860, 25172, 28318, 28517, 28537, 29370, 30448, 31448, 32388, 34451, 34756, 35347, 41692, 44703, 45784, 48809, 52260, 53299, 53480, 55189, 57092, 57568, 697, 2890, 3221, 4996, 6560, 11437, 12071, 12683, 13038, 15194, 16474, 17307, 17943, 18201, 18242, 21057, 21320, 21737, 25487, 26314, 29629, 31228, 33731, 34142, 37356, 38269, 40488, 41893, 42310, 44912, 47333, 49639, 53326, 55192, 55660, 56299, 271, 3915, 8961, 12927, 15578, 15730, 15902, 17497, 18187, 19553, 19604, 19707, 20962, 21120, 21734, 23098, 23622, 24920, 27403, 28786, 30103, 31897, 32758, 33745, 34182, 35327, 36081, 38254, 38347, 39273, 39328, 42496, 42552, 42674, 45974, 46690, 46908, 47320, 49218, 49291, 49295, 50904, 53739, 54455, 57243, 873, 1420, 2054, 2744, 5180, 9227, 12227, 12254, 13631, 14491, 15441, 16203, 16488, 16717, 18906, 21206, 21929, 22751, 23058, 23075, 26195, 28494, 30757, 30794, 31625, 31696, 32804, 35804, 36795, 36831, 37367, 38609, 39140, 40054, 41915, 43091, 45130, 45846, 45900, 45913, 46317, 47861, 50736, 53131, 54131, 54567, 55961, 56013, 734, 2387, 4771, 6437, 7226, 7799, 9531, 9848, 9953, 10826, 12356, 12667, 13743, 14958, 14973, 15285, 15820, 17109, 18113, 18847, 18894, 19622, 19992, 20293, 24529, 28976, 29235, 30693, 32650, 32828, 32971, 33300, 34256, 34523, 37471, 38041, 38991, 39575, 39881, 42673, 44727, 48844, 50901, 52019, 52248, 52784, 52911, 53001, 53190, 56750, 1898, 3271, 4292, 6667, 8469, 9023, 9112, 9434, 10743, 11404, 11541, 11721, 12685, 15479, 15604, 15645, 17643, 18203, 19833, 20320, 20925, 21373, 22968, 24734, 24967, 33566, 34131, 34158, 36910, 37305, 37595, 39540, 40591, 41502, 42692, 42869, 47181, 48033, 51174, 54689, 55333, 2558, 2907, 3807, 4006, 5393, 6014, 6068, 9433, 11047, 11440, 12301, 13507, 14493, 15176, 18065, 18379, 18613, 19363, 24509, 24869, 26267, 27077, 29244, 31793, 33559, 37651, 37894, 41933, 43378, 43423, 43971, 44250, 50999, 51823, 52008, 52560, 52768, 52788, 53137, 54584, 990, 2041, 2787, 2872, 3414, 5903, 6733, 11210, 13277, 14297, 15613, 16077, 16914, 17343, 17944, 19074, 19787, 23163, 25200, 25800, 26145, 26790, 27054, 27680, 31420, 32016, 32641, 32646, 33635, 33694, 34806, 35481, 36142, 38652, 39512, 40954, 41158, 42532, 43494, 43623, 44241, 48237, 51373, 55754, 56018, 301, 1427, 1441, 2318, 3708, 5818, 9043, 9106, 14091, 15021, 15667, 21449, 22097, 26663, 27864, 29967, 32114, 33818, 35016, 35614, 36552, 37747, 39286, 40721, 41205, 41977, 42223, 43409, 46662, 49211, 52311, 52789, 54157, 54699, 56077, 336, 673, 1703, 2295, 2519, 3417, 4734, 8165, 8612, 13719, 13946, 16311, 17324, 17639, 18051, 18436, 18967, 19423, 20636, 21532, 21993, 22353, 23070, 25328, 25807, 28255, 28741, 29951, 30458, 30596, 30748, 36245, 37957, 38406, 39014, 40507, 40533, 41024, 41108, 41211, 41559, 42334, 44075, 44268, 45586, 46852, 47713, 48810, 49105, 49649, 53221, 278, 735, 2487, 3099, 3127, 3490, 3666, 5894, 7105, 10047, 11873, 13256, 15507, 17285, 17794, 18688, 19006, 19560, 20890, 23106, 24270, 26664, 26877, 27950, 28588, 28591, 32173, 33457, 38303, 39086, 39204, 39262, 43600, 44255, 44800, 45133, 46410, 48827, 51383, 51496, 51998, 53348, 53538, 1780, 3495, 3698, 4099, 4936, 9874, 10508, 10983, 11029, 11804, 14872, 15463, 17916, 18884, 19580, 22949, 23410, 24496, 25431, 25542, 28067, 28239, 30479, 32662, 35902, 36636, 38784, 41309, 41484, 43356, 43386, 44283, 44419, 44481, 44948, 45167, 48315, 52317, 52947, 53163, 53199, 53501, 53627, 55349, 56507, 56936, 57427, 1081, 4038, 5133, 6483, 6974, 9426, 9725, 10007, 10061, 10204, 10234, 11087, 12352, 12495, 12894, 14466, 16227, 16596, 17041, 17650, 17982, 19306, 19753, 20622, 20848, 22331, 23906, 26869, 28074, 28193, 29087, 30437, 32456, 32594, 35323, 35336, 37526, 39964, 42113, 43134, 48682, 49372, 50967, 52469, 53771, 54562, 54763, 55138, 57484, 307, 808, 1233, 1244, 2420, 2746, 3894, 3967, 4029, 7466, 7984, 9525, 9997, 10849, 12273, 12914, 18105, 18695, 19071, 20443, 22699, 22785, 24507, 24898, 24899, 25347, 25387, 25888, 27426, 28312, 29732, 29795, 30195, 31646, 37159, 37386, 38050, 38069, 39397, 39505, 40971, 40993, 41073, 41277, 42013, 42900, 44012, 46893, 47692, 47917, 48706, 50013, 50391, 50457, 50924, 51354, 51405, 51417, 52139, 52537, 52557, 52790, 54589, 55294, 56967, 176, 219, 1075, 1485, 2499, 2953, 3662, 4239, 4517, 4633, 5641, 6240, 7191, 13255, 15274, 15551, 16406, 17756, 19671, 22587, 22959, 23040, 24447, 25420, 25450, 26694, 26795, 26908, 29439, 29527, 30288, 31563, 31668, 33108, 33334, 34832, 36056, 37899, 38561, 40006, 40149, 41195, 43988, 44418, 45007, 45265, 46991, 48066, 50343, 50705, 51909, 55110, 55385, 405, 1085, 2724, 2932, 4412, 9428, 9731, 10967, 11903, 13204, 15004, 16188, 16464, 17009, 17900, 20208, 21305, 21714, 21974, 23229, 25085, 25196, 27104, 28589, 28629, 30228, 31354, 31729, 31775, 34263, 41497, 41634, 41662, 44284, 44310, 45360, 46302, 46730, 50210, 53787, 54616, 56038, 820, 1293, 5005, 5986, 8239, 11503, 11808, 12364, 12657, 13433, 18270, 21999, 24353, 25058, 26021, 27047, 27217, 27731, 30993, 35500, 37509, 40871, 41095, 41592, 41781, 42267, 43786, 44709, 45825, 48187, 48664, 49009, 49333, 52749, 53076, 53359, 54016, 2467, 4684, 5754, 6241, 6876, 7637, 10155, 10757, 11893, 11925, 14310, 14378, 14853, 15208, 17541, 17694, 19519, 22124, 22989, 27452, 28114, 28608, 29808, 29994, 30354, 30466, 31587, 32005, 38014, 38636, 39507, 39568, 39934, 41151, 41157, 41379, 42137, 43575, 45703, 48906, 56169, 56707, 2901, 2944, 4835, 4982, 6590, 6740, 8233, 9242, 10547, 12303, 12315, 13589, 16465, 16647, 17342, 17558, 19193, 19355, 19381, 19406, 20295, 20659, 20776, 23136, 27644, 28910, 29086, 29484, 29893, 31602, 33229, 33234, 34485, 34611, 35278, 36867, 39578, 41016, 41959, 43639, 49063, 50781, 50912, 51418, 52136, 52733, 54733, 55715, 33, 1995, 2748, 3424, 3516, 4386, 4434, 5241, 9213, 9543, 10200, 12521, 13169, 13171, 13500, 14106, 16112, 16196, 17158, 17796, 18603, 20087, 22991, 23133, 23134, 24251, 27525, 28064, 30224, 30745, 33272, 34934, 35004, 35264, 36110, 39230, 39325, 39405, 40104, 41921, 43324, 47897, 52562, 53508, 54849, 56017, 56050, 56781, 1393, 1847, 3826, 5275, 6357, 8438, 9461, 9734, 10375, 10799, 11805, 16878, 17187, 17321, 17799, 18517, 19154, 19461, 20438, 20453, 20558, 21479, 23047, 24238, 25191, 26337, 28595, 28733, 29296, 31652, 32579, 33332, 35028, 40513, 40992, 41015, 41846, 41895, 43239, 43379, 46789, 47956, 48732, 53532, 55289, 56068, 56340, 56517, 57416, 2424, 2810, 3714, 3842, 4246, 4597, 6120, 6931, 7291, 9004, 9209, 10291, 10390, 11603, 12341, 14965, 15679, 15970, 16970, 19479, 19897, 20059, 20387, 21047, 21666, 25084, 25856, 25951, 26102, 26991, 30198, 31018, 32008, 33806, 34018, 36859, 36886, 37050, 38074, 38748, 41072, 41900, 41987, 42704, 43537, 45128, 45182, 47319, 48001, 49198, 50676, 50892, 51278, 51824, 53096, 53918, 56406, 56807, 57246, 707, 1033, 1058, 1573, 2329, 3777, 4666, 9399, 12304, 12328, 18795, 21407, 22682, 23850, 24505, 28414, 29459, 31882, 31902, 31955, 34040, 34353, 35008, 37946, 40059, 40158, 42011, 43576, 43994, 44065, 44472, 45117, 45924, 46264, 49321, 50443, 54208, 54519, 55584, 56526, 146, 1289, 4651, 8784, 12226, 12295, 13446, 14888, 16600, 17289, 17292, 18209, 18600, 18606, 21304, 21455, 21573, 23612, 29008, 29033, 29896, 30894, 31276, 34345, 34820, 37684, 37940, 39517, 42442, 42703, 44240, 44624, 46725, 48501, 48685, 48845, 50911, 51061, 51961, 52117, 53509, 54108, 55278, 55495, 57192, 570, 975, 1184, 1877, 2157, 3862, 7342, 9036, 9446, 11182, 11944, 13280, 13987, 14049, 15723, 18237, 18669, 18974, 20525, 21214, 22599, 23027, 26635, 27402, 27503, 29225, 30304, 32267, 32479, 34348, 37922, 37986, 38153, 39662, 39897, 41103, 41587, 41975, 45144, 47744, 48198, 50958, 51123, 54641, 54665, 770, 2064, 6235, 9284, 10164, 11233, 14667, 16535, 16636, 16940, 17674, 20236, 23755, 24412, 26506, 26616, 26958, 28281, 29948, 30615, 31387, 33572, 34595, 39510, 39590, 39985, 40268, 41925, 42338, 43871, 46400, 48884, 49938, 50209, 50684, 50763, 50788, 52681, 53456, 53793, 54138, 54508, 54859, 54889, 55704, 56236, 56491, 418, 2390, 6195, 9186, 9285, 10527, 14058, 14485, 18320, 22309, 24657, 25147, 25193, 25620, 25774, 26041, 26820, 27145, 28651, 28888, 31980, 32183, 33164, 34354, 35106, 37767, 40246, 41496, 42527, 44958, 45763, 50166, 50564, 50887, 53954, 54199, 2510, 7561, 9197, 9215, 10492, 13618, 14847, 17065, 19738, 21033, 22318, 23284, 24147, 25015, 25318, 27803, 28647, 30610, 31447, 33917, 34089, 34359, 34515, 36299, 38416, 38611, 38685, 39307, 41077, 43732, 44243, 45834, 46111, 47208, 47920, 48886, 49723, 49752, 51978, 52524, 54150, 54691, 54768, 54836, 56045, 989, 4270, 4777, 5309, 6996, 9313, 10489, 12008, 12202, 12890, 14170, 14992, 17526, 17851, 18174, 19661, 22604, 23705, 26915, 28624, 28857, 30951, 32571, 35393, 38585, 39834, 41341, 42164, 43847, 44206, 50428, 50853, 52713, 53072, 53242, 54078, 55718, 56917, 1361, 7211, 11652, 12603, 14255, 14308, 17671, 18440, 18754, 19748, 20211, 20254, 21827, 24947, 26089, 26856, 28390, 29306, 29957, 29979, 30130, 36838, 38112, 38806, 41695, 42999, 43399, 45247, 46706, 46967, 49715, 50398, 50948, 53144, 56497, 781, 888, 3055, 4218, 5507, 6570, 8009, 8270, 9223, 9636, 11154, 13611, 14163, 15975, 17647, 20458, 20892, 21563, 23381, 24927, 27884, 28306, 28609, 28763, 31931, 32180, 32418, 33816, 34227, 34350, 34827, 35433, 36813, 37402, 37568, 39045, 39129, 39158, 39162, 40844, 41028, 42350, 42381, 45256, 50401, 52385, 52883, 53652, 53681, 55939, 285, 1771, 1835, 2488, 6871, 6880, 7009, 7495, 8133, 10045, 11318, 13064, 13079, 14714, 15502, 19901, 24114, 24436, 26415, 26583, 26885, 30107, 31115, 31121, 31994, 32023, 32216, 32577, 32997, 33417, 34224, 35299, 38410, 38700, 39715, 40519, 42016, 42330, 44089, 45331, 46798, 47391, 47458, 49272, 50479, 56090, 1155, 1558, 1915, 2437, 3713, 4998, 6915, 8638, 8792, 8859, 9448, 11455, 12210, 14864, 15913, 16051, 17221, 17350, 18279, 18515, 19163, 25163, 25382, 25783, 27063, 27916, 29702, 29730, 30127, 32283, 32602, 37706, 39469, 40034, 41715, 41827, 41930, 42579, 46988, 48768, 49349, 49728, 50548, 52756, 53790, 55178, 56057, 56209, 56561, 297, 2490, 3365, 3584, 4044, 4331, 6905, 7282, 13184, 13380, 13650, 14171, 15862, 17383, 18961, 20415, 25402, 27069, 30181, 30695, 32018, 33248, 36065, 36279, 36640, 36641, 37112, 37393, 38161, 39913, 40122, 40528, 40876, 41511, 45196, 45422, 46331, 46839, 48039, 48201, 48460, 49414, 49423, 53356, 53997, 54559, 55569, 993, 1378, 3234, 3504, 3506, 3976, 4224, 5318, 8059, 9159, 9788, 10824, 11131, 12587, 13039, 14995, 16181, 16997, 17417, 18635, 26188, 26771, 27297, 27543, 28201, 28421, 30728, 33550, 33971, 34343, 34464, 35424, 37469, 38020, 38576, 39098, 41082, 41269, 41564, 43127, 43628, 45473, 48184, 48808, 48898, 49276, 50466, 50882, 51796, 51827, 52037, 52683, 54630, 56894, 330, 349, 973, 2032, 4005, 6875, 9676, 9737, 10073, 11394, 13226, 14285, 17115, 17286, 17365, 19851, 19984, 20431, 20972, 22565, 24548, 24966, 26662, 27275, 28265, 28600, 31540, 32632, 34288, 35302, 35640, 35913, 36523, 37644, 38426, 38666, 38704, 38788, 39188, 39199, 39295, 39692, 41187, 41238, 41954, 42392, 43569, 43651, 44870, 47781, 48895, 50157, 50532, 52555, 52600, 53418, 54666, 55322, 2730, 2796, 3377, 5229, 5530, 6680, 9026, 9169, 9392, 9632, 11896, 16395, 16401, 20279, 21345, 22019, 23627, 29813, 30494, 30834, 33158, 34121, 34813, 34950, 35168, 35575, 37470, 38307, 39843, 40889, 41558, 41581, 42387, 46897, 47756, 49695, 50429, 50769, 50989, 52290, 52326, 52946, 54174, 54392, 55332, 55771, 56201, 56258, 56277, 56364, 56909, 2100, 2252, 5156, 5226, 6505, 6831, 7487, 9775, 10363, 11111, 12104, 12946, 13055, 14551, 16028, 16286, 17035, 17763, 18159, 18986, 19745, 20951, 21364, 22092, 23925, 24439, 25127, 25426, 25771, 26413, 26768, 26886, 27259, 27520, 28054, 28551, 28893, 28998, 29919, 30330, 30835, 31183, 31341, 31534, 31971, 32096, 34205, 37599, 39474, 39599, 39614, 41501, 41961, 42826, 43934, 44224, 47871, 48823, 49694, 51005, 54698, 55302, 55329, 56569, 56792, 1922, 2374, 2388, 3110, 5388, 6496, 6538, 10017, 11534, 11617, 15756, 18296, 19457, 19740, 20898, 22045, 22882, 24978, 26926, 27274, 27365, 27851, 29938, 30041, 32255, 32567, 32630, 34185, 34506, 38071, 38418, 39024, 39303, 39882, 40197, 45146, 47196, 48758, 49010, 52235, 52327, 52721, 53340, 53389, 54017, 54688, 56409, 56506, 57174, 57340, 367, 784, 1334, 2161, 2440, 3975, 7849, 8043, 10724, 11030, 11240, 13379, 14912, 14982, 16730, 16752, 17610, 18480, 19899, 20688, 20854, 22462, 22880, 24663, 25472, 25851, 26359, 27213, 27446, 29333, 29996, 30786, 31040, 31095, 31915, 32471, 34831, 36029, 37833, 38098, 38981, 39151, 39944, 41123, 41358, 41894, 41952, 41963, 42444, 42633, 43234, 45886, 46887, 48536, 48636, 49449, 50489, 51384, 53238, 53590, 53985, 3577, 6389, 15278, 18550, 23033, 23076, 24517, 25075, 26761, 26799, 27136, 27704, 30456, 31805, 32460, 32522, 35230, 35531, 39025, 39786, 40063, 40516, 41097, 41904, 42029, 45845, 47886, 48071, 49111, 50812, 52359, 53218, 55174, 55757, 57404, 691, 1806, 1919, 2044, 2272, 2333, 3569, 3979, 4698, 5689, 5893, 5898, 6473, 8152, 11809, 12239, 14225, 14837, 15098, 17633, 20980, 25202, 29709, 30779, 32788, 34154, 38346, 39224, 39244, 39271, 41189, 41305, 41386, 41723, 42473, 42662, 43258, 43765, 45675, 47223, 48238, 49213, 49736, 50569, 50760, 50837, 51897, 55058, 56266, 775, 1449, 3540, 3547, 5161, 5178, 5219, 8085, 9218, 9575, 10315, 11071, 11192, 11958, 12499, 12899, 13044, 14807, 17545, 19078, 19153, 19415, 19826, 24575, 26931, 29921, 30751, 32277, 33345, 34815, 35386, 36293, 39122, 39143, 39756, 40619, 42138, 47914, 48944, 51832, 52300, 52723, 53213, 53514, 54888, 55975, 56913, 2024, 2164, 2485, 3214, 4414, 5322, 5542, 6232, 6371, 6911, 9356, 11737, 12928, 13738, 15711, 16707, 18866, 19654, 20840, 21359, 22492, 22633, 22806, 24484, 24885, 30201, 31892, 36072, 38383, 38607, 39586, 40258, 41041, 41500, 41869, 42935, 43338, 49445, 51300, 52158, 52175, 52489, 53130, 53981, 54004, 57510, 316, 897, 1186, 2301, 3237, 3409, 4373, 4769, 5300, 5613, 7600, 9113, 11095, 11627, 12384, 13122, 13814, 14319, 14887, 16132, 18167, 18602, 19674, 21104, 22918, 22967, 25126, 26534, 26649, 28868, 29119, 31957, 33485, 33826, 34284, 37508, 38072, 38925, 39043, 39091, 41870, 41947, 42325, 42331, 42656, 43749, 44446, 44947, 45570, 45857, 47130, 50011, 51495, 54113, 56070, 2723, 3460, 3695, 4572, 5032, 5431, 6470, 8533, 8726, 9116, 9192, 9799, 10156, 10161, 11567, 12399, 13194, 13844, 13940, 17029, 17293, 17791, 20313, 20353, 21386, 21394, 21559, 22434, 25104, 26578, 27391, 29040, 30862, 36392, 37235, 37667, 38042, 38134, 39346, 40109, 40392, 40506, 42366, 43216, 43720, 43825, 45794, 47721, 51985, 52794, 54130, 56626, 57075, 325, 834, 2225, 3023, 4461, 6412, 9184, 10099, 10269, 10769, 11592, 12579, 14910, 15216, 15644, 16718, 17169, 17532, 20378, 20652, 20767, 21147, 28516, 30273, 31792, 32269, 32477, 33476, 33524, 33812, 33927, 34363, 34957, 36786, 38114, 38708, 41626, 41816, 43189, 44267, 46808, 46842, 47364, 50170, 50510, 50883, 53702, 54557, 55692, 1994, 2336, 2726, 5227, 5737, 5768, 6463, 6646, 6697, 8195, 10020, 11391, 11462, 11480, 13074, 13192, 14791, 15243, 15867, 20543, 25927, 26208, 29456, 33185, 33237, 33693, 34332, 34426, 35242, 37345, 37932, 38032, 40168, 41316, 41973, 42382, 42499, 43605, 44696, 45706, 46158, 49480, 52373, 56023, 56420, 235, 1961, 1992, 2913, 3742, 4389, 5859, 5999, 8635, 8794, 8935, 11492, 11972, 13073, 15192, 16753, 17370, 17886, 21846, 24538, 25789, 26354, 26940, 27388, 29947, 30790, 31135, 31194, 31598, 31639, 33049, 33121, 33649, 34119, 34153, 35262, 35670, 37309, 37646, 38386, 41160, 41653, 41674, 41964, 44887, 45442, 46307, 50346, 51343, 51462, 52069, 52288, 52727, 53294, 53349, 54037, 1132, 2423, 2722, 2802, 3873, 5109, 6658, 7011, 8670, 9147, 13229, 13561, 14942, 18204, 21703, 22200, 22232, 25068, 25278, 26132, 27903, 29501, 32002, 32398, 33348, 35634, 36887, 37248, 37608, 38078, 39197, 39754, 40182, 41531, 41899, 46680, 47367, 47943, 48043, 48656, 49702, 50322, 50906, 52030, 52279, 52485, 55740, 55902, 55973, 56383, 215, 501, 1656, 5438, 8089, 8248, 9414, 10206, 10258, 10327, 10557, 12462, 13918, 14652, 14861, 15933, 17118, 17157, 17711, 17862, 17883, 18482, 19219, 22539, 24221, 24542, 25133, 25326, 26639, 27256, 27295, 27331, 30391, 31197, 31922, 32268, 32764, 33521, 34309, 36468, 38780, 39078, 39205, 39241, 39543, 42668, 43985, 45148, 45309, 47612, 50607, 50704, 50909, 51138, 53318, 53643, 54320, 55655, 56155, 56815, 56905, 57197, 192, 1231, 1295, 4644, 4712, 6717, 7055, 7635, 9094, 9755, 10011, 10216, 12125, 12206, 13069, 13617, 13996, 16821, 17164, 17470, 18163, 18702, 20357, 20981, 22000, 22479, 29354, 29386, 29817, 29989, 31204, 32237, 32591, 33762, 35833, 37917, 38390, 39003, 39631, 40170, 41873, 42765, 44743, 45181, 48251, 48988, 49201, 49434, 50988, 52081, 52113, 53211, 54409, 54717, 55872, 2, 412, 1347, 2732, 5700, 9139, 10715, 11964, 13724, 16532, 16748, 17233, 19832, 20137, 22357, 22750, 24504, 25999, 26396, 27515, 28112, 30269, 30585, 30591, 31214, 34260, 34339, 35090, 35584, 37101, 37628, 38878, 39713, 43331, 44685, 46776, 47390, 47961, 50068, 51039, 51829, 52171, 52500, 57567, 2096, 2139, 2813, 3433, 3749, 3800, 4139, 7088, 8775, 9086, 9452, 9646, 11257, 12526, 13024, 13726, 14804, 15173, 15246, 15289, 16308, 17106, 17408, 18231, 20333, 27306, 27526, 27663, 28837, 29089, 29822, 30677, 31813, 34150, 34818, 36721, 37669, 38365, 38822, 40264, 42523, 44311, 48181, 48693, 53139, 53363, 53457, 54146, 54253, 54368, 54610, 55597, 57602, 363, 434, 2088, 5917, 6230, 6752, 7065, 8146, 8901, 10488, 10571, 12286, 13477, 17070, 19628, 20023, 21432, 21814, 23287, 24233, 24284, 24590, 26403, 26835, 29792, 29871, 31660, 37256, 37265, 37458, 37954, 40037, 40706, 41922, 42647, 44672, 44883, 45184, 45502, 46723, 49691, 49707, 51319, 51327, 55972, 56186, 56399, 3509, 3595, 4332, 4397, 4704, 6598, 6942, 8963, 9082, 10036, 10041, 12229, 12312, 14856, 15083, 17242, 17689, 21331, 23066, 24034, 26779, 28363, 28706, 30114, 32628, 33201, 33579, 33999, 39206, 39645, 41002, 41972, 43626, 43769, 43952, 44497, 44821, 46347, 49760, 50288, 50290, 50474, 50612, 51452, 52839, 52873, 53225, 54010, 55619, 56499, 87, 305, 746, 1759, 1770, 1831, 3115, 7594, 7601, 7755, 7776, 9472, 9965, 11460, 13630, 14395, 14512, 15584, 17150, 18139, 18371, 18705, 20145, 21212, 22610, 22840, 23714, 27642, 27986, 28534, 29661, 31071, 33789, 35128, 35248, 36610, 36681, 37945, 38815, 40088, 41178, 41524, 41850, 41901, 42793, 42870, 43405, 44409, 45677, 46108, 46272, 46785, 52047, 52685, 52885, 55615, 56798, 1387, 2846, 3147, 3827, 5436, 6340, 9047, 10192, 10217, 10240, 10999, 11118, 12885, 13098, 14989, 15097, 16071, 16706, 16769, 17702, 19135, 19314, 20340, 20959, 22766, 22885, 25344, 26400, 27341, 28166, 29242, 29488, 30147, 30819, 32357, 33714, 34164, 37911, 38057, 38236, 38519, 42864, 45088, 46728, 51331, 52547, 53306, 54007, 56548, 3845, 4823, 6405, 10438, 11415, 12096, 13164, 15619, 17513, 19982, 20471, 21326, 21491, 21748, 22002, 22914, 22962, 23769, 24696, 26412, 26562, 28859, 28860, 30171, 33703, 33764, 33932, 36526, 37531, 38657, 39470, 42198, 43611, 43698, 44951, 45155, 46653, 48637, 49026, 50174, 50986, 51315, 52093, 52220, 53133, 54215, 54695, 29, 420, 706, 972, 2366, 3767, 5725, 6672, 7629, 8388, 8983, 9722, 9812, 10241, 10376, 12947, 13641, 16239, 19258, 19325, 19829, 22921, 22980, 23221, 23370, 25173, 26430, 27406, 28678, 29041, 29384, 29574, 29968, 31125, 32612, 37616, 37675, 38305, 39239, 39888, 39920, 41950, 44658, 44981, 45178, 47421, 48070, 48309, 48893, 49011, 49696, 49912, 51135, 51816, 52045, 55040, 1158, 3598, 3699, 6001, 6655, 8517, 9378, 9470, 9691, 10257, 10318, 10841, 11239, 11259, 11261, 13442, 16711, 17278, 18145, 18164, 18253, 20996, 26368, 27201, 27732, 27753, 28793, 30239, 32438, 32667, 36622, 37582, 38473, 38571, 42093, 44954, 45194, 47135, 48068, 49041, 52906, 53006, 55701, 55772, 56496, 56908, 737, 876, 3033, 4196, 5487, 5943, 6934, 7896, 8800, 9084, 9179, 9210, 9280, 9504, 12543, 12615, 13403, 14949, 14968, 19169, 20317, 20646, 21369, 21508, 25330, 25424, 27124, 28639, 29365, 33828, 34233, 35222, 36793, 36836, 37442, 37716, 38299, 38596, 38825, 39520, 41025, 42476, 43279, 43403, 44926, 49012, 49594, 49741, 51342, 51444, 52194, 54618, 54879, 55046, 56062, 56280, 56384, 326, 926, 1775, 5110, 5665, 6396, 10393, 10804, 11188, 11249, 11372, 11783, 13080, 14279, 16037, 16314, 16745, 18949, 19232, 20629, 21454, 21593, 23596, 25005, 25093, 25399, 26941, 30159, 30278, 32930, 33177, 33611, 35993, 37034, 37218, 38115, 40693, 41167, 41184, 41867, 43295, 43619, 43685, 44783, 44836, 48957, 50132, 50425, 51001, 51542, 53111, 53763, 55721, 56202, 365, 2369, 4609, 5195, 5648, 5907, 9424, 14518, 14801, 14970, 15769, 17735, 20960, 22128, 22606, 22879, 22883, 23718, 24344, 24390, 25529, 25535, 26353, 26655, 27684, 28208, 28911, 29072, 29727, 33530, 34420, 34635, 37288, 37423, 37598, 39031, 40241, 41209, 43130, 43826, 48927, 49692, 49761, 53488, 54608, 55031, 57031, 852, 2200, 2265, 2284, 3093, 4510, 4532, 5928, 6006, 7453, 7714, 8268, 9132, 10787, 11886, 12371, 14278, 15887, 17332, 18985, 20134, 23739, 26920, 29450, 29878, 30605, 31594, 34216, 38970, 39736, 39748, 40297, 41892, 42217, 42687, 43781, 44720, 45320, 45911, 48189, 48515, 48650, 51392, 51505, 53828, 55638, 55942, 56802, 57137, 57202, 381, 2564, 6009, 6587, 9120, 10074, 12243, 12986, 13677, 17322, 17766, 18169, 18281, 19143, 19414, 20055, 20632, 21879, 24438, 24775, 26833, 28671, 34160, 35326, 35728, 35962, 37128, 37936, 39236, 39652, 40187, 43235, 45354, 45772, 46104, 46434, 47178, 50517, 50553, 51834, 52682, 53011, 53195, 53205, 55131, 1056, 2073, 2354, 3366, 3651, 4411, 5780, 11098, 11282, 11361, 11722, 13070, 13495, 13945, 19386, 21448, 22657, 22862, 24172, 26378, 26898, 27699, 28694, 29334, 30776, 31208, 31221, 31272, 33239, 33608, 35306, 35354, 37553, 37631, 38130, 38602, 39192, 41172, 41408, 41518, 41810, 42747, 43049, 43984, 44309, 47397, 49235, 51473, 54880, 55088, 444, 1199, 1286, 1914, 3256, 3353, 5188, 7141, 8204, 9124, 9236, 9596, 9981, 11447, 11623, 11800, 16219, 18215, 20325, 20485, 22280, 23932, 24214, 24649, 25166, 25782, 26764, 26837, 28593, 28889, 29005, 29218, 29538, 30255, 31889, 33975, 35102, 36643, 38661, 39123, 39167, 39319, 40166, 40206, 40338, 41875, 41905, 41962, 42372, 42642, 44424, 45316, 49690, 52539, 52620, 53196, 53229, 53466, 53953, 56238, 56910, 231, 1267, 1742, 1778, 2012, 2858, 4231, 9489, 9822, 10005, 11298, 12656, 13734, 14043, 15611, 15793, 16263, 17284, 17719, 18197, 19217, 19991, 23448, 24464, 24825, 26933, 27321, 27329, 27431, 27567, 27708, 28723, 29607, 29830, 30145, 30183, 30752, 31567, 31766, 37253, 38680, 39240, 39513, 39610, 44251, 47865, 49042, 50061, 50854, 50888, 50910, 51485, 51954, 54477, 54703, 55962, 56165, 82, 1047, 1929, 2063, 2715, 2950, 4293, 6002, 6245, 6676, 6878, 9595, 9937, 10042, 10536, 11782, 12280, 13259, 13818, 15025, 15527, 18357, 18794, 19371, 20469, 24113, 24483, 27039, 27707, 29375, 29476, 30371, 30401, 31787, 34504, 35045, 40032, 40677, 42377, 43920, 46072, 47676, 50142, 51401, 52877, 53584, 55375, 56929, 424, 2261, 2370, 5740, 5878, 6341, 6589, 8223, 8749, 11382, 11717, 11853, 11921, 13664, 13894, 14392, 16392, 17230, 17679, 18177, 18803, 20131, 20210, 21144, 23022, 24847, 26424, 26638, 30132, 31025, 35901, 37549, 38691, 41512, 42648, 43714, 46732, 49574, 49931, 50726, 52336, 52782, 54690, 56224, 2040, 2070, 2781, 3298, 3340, 3450, 4141, 4204, 4205, 4640, 6716, 7046, 7298, 8590, 9100, 9226, 14428, 14601, 17004, 18926, 18959, 19282, 20301, 20442, 21404, 23963, 25090, 27125, 27126, 27236, 28451, 29257, 31743, 33023, 33801, 37244, 38398, 40599, 41120, 41968, 42723, 43104, 44691, 44961, 45239, 48934, 52611, 1093, 2720, 3236, 4503, 9341, 10135, 11368, 12242, 13137, 14094, 14957, 15447, 17606, 18157, 19186, 20685, 23004, 24557, 24737, 26241, 26409, 27399, 31322, 31361, 32980, 33518, 33598, 35107, 35199, 38055, 39107, 39444, 43199, 44256, 48320, 50467, 52305, 53235, 55162, 55180, 56824, 57217, 212, 1041, 2186, 4065, 4212, 4667, 6656, 7506, 9720, 12357, 13660, 16523, 16666, 18939, 19513, 23084, 23223, 23956, 26074, 26438, 27662, 28055, 29833, 29929, 30075, 31603, 33207, 33581, 33853, 35289, 35321, 35716, 38776, 39289, 40933, 41931, 42000, 42543, 43631, 45438, 47395, 50424, 53109, 54261, 55101, 55286, 1302, 1318, 3565, 4476, 8591, 9762, 10472, 10482, 11285, 12314, 12939, 13735, 14528, 16246, 17602, 17695, 17918, 18102, 23121, 24089, 24499, 24601, 27548, 30162, 30594, 32310, 32801, 33874, 34475, 35525, 39600, 41052, 41906, 43594, 44271, 44285, 44815, 49310, 50593, 50653, 52846, 53118, 53986, 55887, 56919, 1325, 1370, 2782, 4583, 5054, 5118, 6647, 6714, 7007, 7089, 10466, 11050, 12423, 13193, 13200, 13278, 14342, 15752, 15795, 17613, 17773, 18045, 19051, 19946, 24503, 26471, 26483, 27005, 28272, 30005, 30244, 33950, 34293, 39157, 39932, 40080, 40956, 41301, 41468, 42670, 43591, 43830, 44435, 44617, 44747, 46917, 50493, 51026, 51581, 51963, 52172, 53244, 54147, 55070, 56039, 56563, 1971, 3880, 4318, 4750, 4980, 5198, 9237, 10954, 11120, 11316, 12235, 14140, 15788, 16978, 17210, 18467, 20346, 21833, 22012, 22590, 23144, 23726, 24520, 25032, 26814, 28128, 29777, 30037, 32750, 33153, 33784, 35310, 36492, 36817, 37998, 39226, 40112, 42368, 42638, 42780, 43280, 43313, 43747, 44043, 47626, 47880, 48102, 49667, 50630, 53416, 56428, 57030, 57439, 1601, 2294, 4775, 9346, 10764, 11746, 14870, 16732, 17110, 19241, 22130, 23383, 29757, 29786, 29931, 31550, 36334, 37534, 37991, 38454, 38599, 39601, 39740, 40072, 40511, 42689, 47678, 48824, 49361, 52285, 53251, 55108, 2661, 4924, 5331, 8402, 9288, 10387, 12963, 13516, 16243, 18704, 18827, 20396, 23953, 24951, 25667, 26143, 26830, 27535, 27553, 28283, 29784, 30801, 31162, 33873, 35449, 39187, 41711, 42353, 42414, 44697, 44750, 45273, 45425, 48591, 48655, 49017, 49605, 50480, 51560, 54684, 55381, 55719, 56494, 57599, 338, 1261, 4106, 5738, 6916, 7200, 7759, 7763, 7851, 10350, 13343, 13873, 14444, 14802, 15994, 17108, 17218, 17379, 17487, 18150, 18390, 21962, 23168, 24012, 24088, 24611, 26504, 26725, 27103, 28189, 29030, 31464, 35968, 37808, 38634, 41436, 43364, 43924, 45165, 45347, 46696, 49323, 52281, 54669, 54914, 55188, 56091, 194, 1772, 2473, 2751, 3843, 4214, 4483, 5971, 6148, 7097, 8785, 9114, 9432, 10091, 11954, 13742, 16866, 17400, 17701, 18313, 19194, 19510, 19848, 20432, 20548, 22367, 25186, 25702, 29724, 29746, 31771, 32073, 32103, 33066, 33820, 33864, 35645, 37270, 38277, 39486, 41282, 41313, 41387, 48393, 50352, 50860, 51087, 51910, 52299, 53982, 54272, 55095, 34, 647, 1148, 1908, 5432, 7363, 8520, 8743, 9187, 9212, 9224, 9249, 10411, 11115, 11308, 12663, 15460, 20349, 20784, 23916, 24168, 24242, 26257, 26568, 27920, 31105, 31345, 31542, 33586, 34156, 35576, 37546, 40504, 44650, 47452, 48243, 51291, 51984, 52056, 52074, 53074, 55458, 57032, 222, 315, 1031, 2755, 4334, 4699, 6112, 6855, 6927, 9247, 10222, 10367, 10481, 10640, 11031, 14561, 16869, 17964, 19165, 19508, 20954, 24126, 26464, 27690, 27932, 28228, 28866, 29787, 30006, 30983, 32876, 32927, 33534, 33761, 34241, 39049, 39147, 40053, 41889, 41981, 43834, 44308, 44487, 44820, 45854, 48427, 49033, 50298, 50502, 55125, 55987, 56365, 56920, 57527, 57529, 929, 1359, 2185, 2335, 2779, 2877, 3886, 4000, 5472, 9092, 9160, 9385, 10314, 11165, 11175, 13685, 15096, 15202, 15998, 16242, 18217, 18267, 18691, 19315, 19764, 19989, 20529, 21130, 23093, 25007, 26164, 27091, 31157, 32327, 32640, 36222, 37548, 37895, 37939, 38490, 39759, 40411, 40683, 42195, 42916, 43143, 43788, 44421, 45673, 47210, 48511, 48765, 50545, 54020, 642, 3196, 6319, 7001, 7140, 8542, 9453, 9780, 10356, 11045, 13473, 14906, 15553, 17670, 17698, 18135, 19040, 19191, 19337, 19868, 20345, 26046, 26202, 26499, 26711, 28059, 28072, 28792, 29452, 30475, 33044, 33442, 35000, 37575, 38364, 38572, 39872, 40139, 41815, 46077, 49706, 49749, 53059, 54237, 57344, 1916, 1937, 2818, 3601, 4594, 5320, 9216, 9455, 11026, 13023, 16731, 16966, 17627, 17837, 17911, 18895, 19184, 21592, 22927, 23248, 24563, 26346, 26607, 27357, 29013, 29744, 33281, 33833, 34245, 35927, 36144, 37581, 38139, 39859, 40178, 41340, 42023, 42842, 44031, 44608, 45201, 47523, 49357, 49709, 49710, 50437, 50879, 51045, 256, 1316, 1595, 1906, 2375, 6601, 6820, 7070, 9894, 11114, 11164, 11272, 11274, 12038, 13189, 13694, 16746, 23020, 23388, 25155, 27086, 27904, 30206, 33100, 37382, 39126, 42427, 42454, 42502, 42799, 49426, 50361, 51744, 52933, 53748, 54249, 55353, 57405, 1008, 2194, 2476, 3116, 4626, 4743, 6418, 6920, 7915, 10076, 10230, 10687, 12903, 13081, 15367, 16001, 18887, 18901, 18911, 19087, 24095, 25119, 25955, 27360, 28455, 30652, 30653, 32751, 32848, 32918, 32943, 37493, 39017, 39066, 40963, 41291, 41838, 42528, 44400, 44864, 45075, 45172, 45367, 49373, 50171, 52848, 53257, 54934, 55277, 1920, 5395, 8197, 8817, 10564, 12007, 12942, 12956, 16328, 16603, 17691, 20670, 23232, 23903, 27568, 27723, 30230, 30627, 31332, 34135, 35568, 38279, 41830, 44890, 45096, 45344, 45872, 50232, 51105, 52391, 54555, 55490, 30, 1357, 1377, 2709, 3327, 4082, 5397, 5457, 7458, 7619, 11883, 16330, 17401, 18199, 18475, 20998, 21273, 23132, 23224, 24076, 26992, 28198, 28590, 30979, 31098, 32803, 39827, 40115, 40532, 40980, 41030, 41352, 41369, 44319, 46987, 48061, 48220, 49222, 49754, 52202, 54151, 55938, 57215, 1892, 2889, 4718, 4794, 5024, 5039, 6007, 7015, 9791, 10397, 10739, 10844, 16119, 16716, 17026, 17328, 18359, 19831, 21175, 21533, 22010, 24010, 24017, 24248, 24584, 24670, 25949, 26126, 26590, 27019, 27344, 29987, 30139, 32858, 33093, 33543, 34923, 37649, 37685, 39637, 39891, 41166, 41851, 42632, 46708, 49647, 50728, 52861, 54290, 54639, 54675, 55179, 55818, 1970, 2435, 4533, 4647, 5876, 6690, 9125, 9365, 9943, 10109, 10968, 11971, 13563, 15698, 17113, 17147, 20310, 20970, 21603, 21781, 23807, 24102, 25523, 26369, 30644, 33601, 34574, 38260, 39007, 41543, 45582, 46826, 50725, 52216, 157, 369, 914, 1129, 1858, 3668, 6320, 10751, 10779, 11731, 11744, 12050, 13419, 15107, 16743, 17191, 21667, 24028, 25107, 26492, 27079, 27632, 28073, 28457, 29064, 29455, 30000, 31806, 31815, 33767, 33840, 37677, 38725, 39186, 39660, 40113, 40955, 43958, 46479, 46729, 50152, 51585, 52127, 53449, 54700, 55440, 229, 2429, 2911, 4131, 4143, 4886, 5029, 5856, 6738, 6890, 9089, 9882, 10307, 10462, 11236, 11947, 12159, 13842, 16121, 16296, 17249, 18674, 18870, 18885, 19387, 20662, 21160, 22673, 25122, 25302, 25315, 25943, 27210, 27550, 28032, 28033, 32642, 33805, 35313, 36598, 36626, 39471, 40025, 41510, 42365, 43912, 44362, 47806, 48029, 49391, 49628, 50296, 51381, 52308, 52900, 55956, 56046, 56152, 56156, 57185, 1764, 4034, 6847, 9042, 9155, 9359, 9522, 10339, 11414, 13480, 20452, 20502, 22365, 24194, 24283, 24497, 24807, 28553, 28848, 31762, 35086, 37652, 39430, 39437, 43811, 49686, 49940, 50206, 52282, 54180, 57393, 303, 4615, 4864, 6440, 8788, 9099, 11121, 15734, 17046, 17254, 17977, 18978, 22764, 22944, 23236, 26139, 27243, 27674, 27827, 27923, 30061, 31582, 32773, 32806, 33787, 37635, 37828, 38080, 38306, 39021, 39134, 41075, 41376, 43620, 44430, 44888, 45223, 48262, 51057, 53346, 54161, 54864, 55121, 55436, 55963, 677, 1028, 1950, 2735, 7103, 8412, 9350, 10008, 11949, 13360, 16264, 16611, 17933, 19365, 19478, 20464, 22525, 23698, 24549, 25338, 26141, 26453, 27021, 27761, 28692, 30091, 30246, 33119, 33626, 34213, 36531, 37676, 38025, 38832, 39201, 44858, 46110, 49590, 50008, 51255, 53902, 53990, 54471, 56408, 64, 4197, 5284, 8453, 10002, 13706, 17382, 18024, 18942, 19349, 23086, 26684, 27290, 28266, 31579, 31632, 33609, 34292, 35237, 35294, 37729, 38453, 38804, 39760, 39963, 40557, 41224, 44465, 44527, 47335, 48420, 48771, 53270, 54753, 55354, 56375, 56916, 2250, 3198, 6846, 7640, 8410, 8832, 9928, 10479, 10496, 11127, 11909, 12156, 13585, 17784, 19140, 19376, 19880, 24705, 24888, 26496, 26981, 29961, 30868, 30937, 31867, 32098, 32778, 32829, 34283, 35451, 35895, 36915, 37691, 37722, 37763, 39173, 39930, 39961, 40295, 40977, 41139, 43836, 44716, 45290, 51248, 56291, 1433, 2075, 2756, 2759, 3733, 4182, 5576, 6449, 8516, 8534, 9735, 11251, 12198, 12374, 12952, 14161, 16022, 16709, 17519, 18397, 21729, 23805, 24661, 26319, 30084, 30629, 36576, 37335, 37468, 37980, 39732, 39987, 40924, 42152, 42718, 44339, 47931, 48696, 49217, 56668, 1522, 1817, 2069, 3716, 6404, 6568, 9088, 10199, 15754, 15775, 21440, 21909, 23343, 26987, 27940, 28165, 31141, 33148, 38004, 38104, 41907, 44719, 46560, 47275, 48638, 48930, 50566, 311, 2931, 4007, 5926, 7069, 7913, 10114, 14878, 15926, 19328, 19339, 19922, 20315, 20915, 21246, 21406, 23867, 24159, 25091, 26410, 26661, 26683, 26695, 27519, 30753, 31117, 31292, 31960, 33775, 36387, 37755, 38753, 39604, 39837, 43883, 45314, 46078, 47019, 50456, 52229, 52692, 56944, 57432, 374, 676, 728, 1945, 2708, 2791, 4287, 6837, 7018, 8774, 8913, 10949, 12251, 13368, 13624, 16990, 18136, 18880, 19198, 20554, 20985, 21396, 21828, 22909, 23176, 27748, 30123, 30803, 31599, 33715, 33734, 34084, 34144, 36917, 37514, 37569, 37979, 38687, 40014, 40110, 40262, 41336, 43774, 44482, 44675, 44705, 44873, 45410, 50303, 52, 1168, 2342, 2359, 3704, 5104, 6220, 6960, 9396, 11450, 13020, 13041, 13786, 14901, 16109, 18233, 20329, 20744, 21245, 26999, 27082, 31099, 32748, 34239, 35241, 35441, 35830, 37877, 38063, 40022, 40296, 41164, 42619, 44856, 47616, 49748, 52448, 54205, 55613, 24, 183, 2716, 5924, 10301, 16358, 21824, 24127, 24244, 24500, 25136, 26505, 27070, 29766, 30120, 32759, 38498, 39213, 40719, 41331, 45308, 48073, 50172, 52246, 52896, 55013, 55065, 55325, 984, 1014, 1982, 2478, 3883, 4351, 10748, 11932, 13475, 13766, 14335, 16739, 19181, 19752, 21602, 23773, 23968, 24215, 25123, 26220, 31868, 32660, 37786, 37787, 39161, 39302, 46797, 47658, 49429, 2761, 3037, 8776, 13313, 14309, 19399, 22190, 22321, 22349, 23073, 23887, 25989, 27231, 28682, 28807, 29366, 29385, 29710, 31350, 37431, 37995, 39181, 39593, 39636, 41293, 41513, 42027, 42541, 44244, 44767, 44866, 44952, 45793, 49425, 49719, 50158, 53298, 711, 1285, 3215, 4209, 5895, 6683, 9189, 9225, 9598, 9840, 10160, 10348, 11955, 14980, 28035, 35064, 36926, 37019, 37272, 40490, 40798, 41896, 42390, 48215, 51576, 277, 700, 858, 2572, 2778, 5058, 7059, 7364, 9657, 11107, 11421, 11776, 12375, 17257, 18930, 23244, 24030, 24177, 24662, 25140, 25941, 32629, 35514, 37707, 39914, 41012, 45054, 45561, 46872, 47834, 57595, 996, 1034, 2322, 6889, 7921, 8498, 11169, 11757, 13072, 16701, 17340, 21818, 24032, 24169, 24669, 24941, 25437, 26360, 26565, 27741, 31631, 33070, 33845, 37250, 39180, 39392, 41202, 41821, 44860, 51567, 1196, 4453, 5049, 5886, 10534, 17860, 20966, 24598, 26512, 27038, 27833, 29024, 29769, 30687, 32469, 38048, 41222, 42728, 44871, 51015, 56559, 282, 13523, 14953, 18909, 27735, 37255, 49300, 50871, 50884, 53256, 244, 2102, 4430, 7014, 8797, 9501, 16751, 17387, 24240, 29238, 30397, 32962, 33386, 34208, 37261, 37576, 50340, 56276, 71, 2728, 3833, 13112, 20971, 24231, 26475, 30054, 31748, 32658, 39177, 39632, 40630, 49664, 52703, 1140, 24452, 39238, 17736, 41013, 9454, 2792, 3, 393, 400, 413, 469, 752, 758, 936, 974, 1022, 1023, 1061, 1178, 1194, 1201, 1311, 1330, 1358, 1429, 1476, 1677, 1714, 1880, 1894, 1897, 1899, 2068, 2142, 2145, 2195, 2379, 2394, 2479, 2505, 2636, 2651, 2870, 2912, 2916, 2949, 3040, 3188, 3687, 3796, 3920, 4073, 4229, 4296, 4314, 4323, 4343, 4659, 4679, 4709, 4783, 4800, 4814, 4956, 5016, 5037, 5185, 5385, 5455, 5654, 5782, 5912, 6049, 6098, 6162, 6198, 6205, 6422, 6648, 6722, 6751, 6893, 6982, 7094, 7133, 7765, 7936, 8067, 8406, 8623, 8725, 8728, 8780, 8831, 8911, 9061, 9154, 9221, 9388, 9390, 9471, 9593, 9800, 9988, 10320, 10334, 10392, 10499, 11034, 11035, 11053, 11059, 11063, 11067, 11072, 11112, 11313, 11535, 11787, 11904, 12120, 12348, 12414, 12567, 12575, 13033, 13061, 13415, 13525, 13679, 13854, 13875, 13878, 14268, 14465, 14468, 14928, 15113, 15114, 15125, 15132, 15215, 15497, 15503, 15506, 15585, 15592, 15594, 15625, 15670, 15759, 15787, 15888, 16661, 16686, 16727, 16736, 16749, 16818, 16938, 17006, 17033, 17047, 17194, 17236, 17237, 17273, 17380, 17668, 18138, 18154, 18186, 18521, 18855, 19061, 19096, 19366, 19440, 19451, 19618, 19979, 20256, 20606, 20743, 20830, 21145, 21280, 21288, 21654, 21761, 21837, 21889, 22404, 22617, 22660, 22726, 22786, 22828, 23083, 23096, 23156, 23192, 23220, 23237, 23563, 23602, 23758, 23881, 23882, 24008, 24109, 24110, 24152, 24243, 24501, 24546, 24624, 24634, 24722, 24725, 24751, 24762, 24768, 24769, 24787, 24802, 24805, 24928, 24971, 25180, 25250, 25316, 25463, 25470, 25478, 25496, 25884, 26210, 26221, 26552, 26691, 26726, 26812, 26825, 26938, 27106, 27119, 27435, 27507, 27547, 27634, 27754, 27814, 27859, 27918, 27958, 27965, 28065, 28092, 28098, 28111, 28328, 28330, 28361, 29054, 29076, 29082, 29084, 29091, 29123, 29131, 29304, 29435, 29529, 29536, 29810, 29834, 29874, 29906, 29920, 30122, 30209, 30254, 30283, 30290, 30398, 30402, 30408, 30439, 30609, 30611, 30651, 30660, 30666, 30710, 30791, 30821, 30948, 30994, 31038, 31357, 31601, 31645, 31655, 31676, 31688, 31720, 31723, 31794, 31842, 31881, 31995, 32361, 32364, 32826, 32836, 32857, 32865, 32868, 32908, 32914, 33000, 33128, 33134, 33140, 33194, 33364, 33369, 33385, 33574, 33690, 33809, 33831, 33846, 33850, 33870, 33879, 33939, 34092, 34157, 34218, 34582, 35015, 35068, 35097, 35234, 35425, 35604, 35936, 35946, 36080, 36460, 36617, 36744, 36749, 37021, 37099, 37144, 37258, 37444, 37561, 37563, 37577, 37621, 37757, 37777, 37985, 38133, 38182, 38562, 38569, 38763, 38846, 39067, 39068, 39398, 39544, 39613, 39860, 39975, 40023, 40036, 40056, 40064, 40077, 40239, 40302, 40435, 40594, 40656, 40842, 40941, 41458, 41466, 41470, 41547, 41681, 41708, 41946, 42050, 42142, 42283, 42318, 42506, 42714, 42911, 43261, 43264, 43265, 43294, 43302, 43572, 43573, 43701, 43791, 43810, 43874, 43956, 44246, 44323, 44383, 44450, 44682, 44714, 44752, 44762, 44824, 44832, 44847, 44855, 44868, 44901, 44906, 44929, 44936, 45127, 45242, 45248, 45264, 45279, 45296, 45319, 45325, 45363, 45875, 46022, 46050, 46116, 46659, 46698, 46743, 46890, 47009, 47322, 47426, 47434, 47466, 47554, 47580, 47633, 47654, 47700, 47862, 47885, 48359, 48487, 48520, 48566, 49146, 49286, 49287, 49935, 49937, 50017, 50113, 50114, 50284, 50349, 50426, 50438, 50587, 50685, 50819, 50826, 50833, 50856, 51033, 51119, 51167, 51281, 51316, 51407, 51481, 51947, 52066, 52115, 52170, 52237, 52431, 52609, 52722, 52748, 53143, 53341, 53392, 53394, 53434, 53973, 54235, 54259, 54301, 54414, 54726, 54759, 54870, 55066, 55129, 55145, 55229, 55369, 55371, 55960, 56204, 56262, 56363, 56481, 57000, 57077, 57199, 57227, 57247, 57410]\n"
     ]
    }
   ],
   "source": [
    "print(result)"
   ]
  }
 ],
 "metadata": {
  "kernelspec": {
   "display_name": "Python 3",
   "language": "python",
   "name": "python3"
  },
  "language_info": {
   "codemirror_mode": {
    "name": "ipython",
    "version": 3
   },
   "file_extension": ".py",
   "mimetype": "text/x-python",
   "name": "python",
   "nbconvert_exporter": "python",
   "pygments_lexer": "ipython3",
   "version": "3.9.12"
  }
 },
 "nbformat": 4,
 "nbformat_minor": 2
}
